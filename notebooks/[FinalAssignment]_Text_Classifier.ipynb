{
 "cells": [
  {
   "cell_type": "markdown",
   "metadata": {
    "colab_type": "text",
    "id": "CZ72FXR9j2zr"
   },
   "source": [
    "# I. Loading & Preprocessing the dataset \n",
    "\n",
    "Dataset includes 10000 sample, 9000 are train set and the others are test set.\n",
    "\n",
    "Each sample includes id, category, title, abstract.\n"
   ]
  },
  {
   "cell_type": "code",
   "execution_count": 52,
   "metadata": {
    "colab": {
     "base_uri": "https://localhost:8080/",
     "height": 1000
    },
    "colab_type": "code",
    "id": "zSmg8LPVEzSR",
    "outputId": "8a1d0a70-1b2a-4a60-d753-5933f74a5ff0"
   },
   "outputs": [
    {
     "name": "stdout",
     "output_type": "stream",
     "text": [
      "--2020-09-21 02:42:51--  https://raw.githubusercontent.com/minhnq97/medical_data/master/crawl_md_question/c3.pt.json\n",
      "Resolving raw.githubusercontent.com (raw.githubusercontent.com)... 151.101.0.133, 151.101.64.133, 151.101.128.133, ...\n",
      "Connecting to raw.githubusercontent.com (raw.githubusercontent.com)|151.101.0.133|:443... connected.\n",
      "HTTP request sent, awaiting response... 200 OK\n",
      "Length: 1544226 (1.5M) [text/plain]\n",
      "Saving to: ‘c3.pt.json.1’\n",
      "\n",
      "c3.pt.json.1        100%[===================>]   1.47M  --.-KB/s    in 0.06s   \n",
      "\n",
      "2020-09-21 02:42:51 (25.2 MB/s) - ‘c3.pt.json.1’ saved [1544226/1544226]\n",
      "\n",
      "--2020-09-21 02:42:51--  https://raw.githubusercontent.com/minhnq97/medical_data/master/crawl_md_question/c4.pt.json\n",
      "Resolving raw.githubusercontent.com (raw.githubusercontent.com)... 151.101.0.133, 151.101.64.133, 151.101.128.133, ...\n",
      "Connecting to raw.githubusercontent.com (raw.githubusercontent.com)|151.101.0.133|:443... connected.\n",
      "HTTP request sent, awaiting response... 200 OK\n",
      "Length: 10580478 (10M) [text/plain]\n",
      "Saving to: ‘c4.pt.json.1’\n",
      "\n",
      "c4.pt.json.1        100%[===================>]  10.09M  58.6MB/s    in 0.2s    \n",
      "\n",
      "2020-09-21 02:42:52 (58.6 MB/s) - ‘c4.pt.json.1’ saved [10580478/10580478]\n",
      "\n",
      "--2020-09-21 02:42:52--  https://raw.githubusercontent.com/minhnq97/medical_data/master/crawl_md_question/c5.pt.json\n",
      "Resolving raw.githubusercontent.com (raw.githubusercontent.com)... 151.101.0.133, 151.101.64.133, 151.101.128.133, ...\n",
      "Connecting to raw.githubusercontent.com (raw.githubusercontent.com)|151.101.0.133|:443... connected.\n",
      "HTTP request sent, awaiting response... 200 OK\n",
      "Length: 304846 (298K) [text/plain]\n",
      "Saving to: ‘c5.pt.json.1’\n",
      "\n",
      "c5.pt.json.1        100%[===================>] 297.70K  --.-KB/s    in 0.02s   \n",
      "\n",
      "2020-09-21 02:42:52 (17.6 MB/s) - ‘c5.pt.json.1’ saved [304846/304846]\n",
      "\n",
      "--2020-09-21 02:42:52--  https://raw.githubusercontent.com/minhnq97/medical_data/master/crawl_md_question/c6.pt.json\n",
      "Resolving raw.githubusercontent.com (raw.githubusercontent.com)... 151.101.0.133, 151.101.64.133, 151.101.128.133, ...\n",
      "Connecting to raw.githubusercontent.com (raw.githubusercontent.com)|151.101.0.133|:443... connected.\n",
      "HTTP request sent, awaiting response... 200 OK\n",
      "Length: 847225 (827K) [text/plain]\n",
      "Saving to: ‘c6.pt.json.1’\n",
      "\n",
      "c6.pt.json.1        100%[===================>] 827.37K  --.-KB/s    in 0.04s   \n",
      "\n",
      "2020-09-21 02:42:52 (22.9 MB/s) - ‘c6.pt.json.1’ saved [847225/847225]\n",
      "\n",
      "--2020-09-21 02:42:52--  https://raw.githubusercontent.com/minhnq97/medical_data/master/crawl_md_question/c7.pt.json\n",
      "Resolving raw.githubusercontent.com (raw.githubusercontent.com)... 151.101.0.133, 151.101.64.133, 151.101.128.133, ...\n",
      "Connecting to raw.githubusercontent.com (raw.githubusercontent.com)|151.101.0.133|:443... connected.\n",
      "HTTP request sent, awaiting response... 200 OK\n",
      "Length: 2111519 (2.0M) [text/plain]\n",
      "Saving to: ‘c7.pt.json.1’\n",
      "\n",
      "c7.pt.json.1        100%[===================>]   2.01M  --.-KB/s    in 0.07s   \n",
      "\n",
      "2020-09-21 02:42:53 (29.4 MB/s) - ‘c7.pt.json.1’ saved [2111519/2111519]\n",
      "\n",
      "--2020-09-21 02:42:53--  https://raw.githubusercontent.com/minhnq97/medical_data/master/crawl_md_question/c9.pt.json\n",
      "Resolving raw.githubusercontent.com (raw.githubusercontent.com)... 151.101.0.133, 151.101.64.133, 151.101.128.133, ...\n",
      "Connecting to raw.githubusercontent.com (raw.githubusercontent.com)|151.101.0.133|:443... connected.\n",
      "HTTP request sent, awaiting response... 200 OK\n",
      "Length: 1683414 (1.6M) [text/plain]\n",
      "Saving to: ‘c9.pt.json.1’\n",
      "\n",
      "c9.pt.json.1        100%[===================>]   1.60M  --.-KB/s    in 0.07s   \n",
      "\n",
      "2020-09-21 02:42:53 (23.4 MB/s) - ‘c9.pt.json.1’ saved [1683414/1683414]\n",
      "\n",
      "--2020-09-21 02:42:53--  https://raw.githubusercontent.com/minhnq97/medical_data/master/crawl_md_question/c10.pt.json\n",
      "Resolving raw.githubusercontent.com (raw.githubusercontent.com)... 151.101.0.133, 151.101.64.133, 151.101.128.133, ...\n",
      "Connecting to raw.githubusercontent.com (raw.githubusercontent.com)|151.101.0.133|:443... connected.\n",
      "HTTP request sent, awaiting response... 200 OK\n",
      "Length: 1208220 (1.2M) [text/plain]\n",
      "Saving to: ‘c10.pt.json.1’\n",
      "\n",
      "c10.pt.json.1       100%[===================>]   1.15M  --.-KB/s    in 0.05s   \n",
      "\n",
      "2020-09-21 02:42:53 (24.2 MB/s) - ‘c10.pt.json.1’ saved [1208220/1208220]\n",
      "\n",
      "--2020-09-21 02:42:53--  https://raw.githubusercontent.com/minhnq97/medical_data/master/crawl_md_question/c11.pt.json\n",
      "Resolving raw.githubusercontent.com (raw.githubusercontent.com)... 151.101.0.133, 151.101.64.133, 151.101.128.133, ...\n",
      "Connecting to raw.githubusercontent.com (raw.githubusercontent.com)|151.101.0.133|:443... connected.\n",
      "HTTP request sent, awaiting response... 200 OK\n",
      "Length: 1922649 (1.8M) [text/plain]\n",
      "Saving to: ‘c11.pt.json.1’\n",
      "\n",
      "c11.pt.json.1       100%[===================>]   1.83M  --.-KB/s    in 0.04s   \n",
      "\n",
      "2020-09-21 02:42:54 (46.3 MB/s) - ‘c11.pt.json.1’ saved [1922649/1922649]\n",
      "\n",
      "--2020-09-21 02:42:54--  https://raw.githubusercontent.com/minhnq97/medical_data/master/crawl_md_question/c13.pt.json\n",
      "Resolving raw.githubusercontent.com (raw.githubusercontent.com)... 151.101.0.133, 151.101.64.133, 151.101.128.133, ...\n",
      "Connecting to raw.githubusercontent.com (raw.githubusercontent.com)|151.101.0.133|:443... connected.\n",
      "HTTP request sent, awaiting response... 200 OK\n",
      "Length: 328636 (321K) [text/plain]\n",
      "Saving to: ‘c13.pt.json.1’\n",
      "\n",
      "c13.pt.json.1       100%[===================>] 320.93K  --.-KB/s    in 0.02s   \n",
      "\n",
      "2020-09-21 02:42:54 (15.8 MB/s) - ‘c13.pt.json.1’ saved [328636/328636]\n",
      "\n",
      "--2020-09-21 02:42:54--  https://raw.githubusercontent.com/minhnq97/medical_data/master/crawl_md_question/c14.pt.json\n",
      "Resolving raw.githubusercontent.com (raw.githubusercontent.com)... 151.101.0.133, 151.101.64.133, 151.101.128.133, ...\n",
      "Connecting to raw.githubusercontent.com (raw.githubusercontent.com)|151.101.0.133|:443... connected.\n",
      "HTTP request sent, awaiting response... 200 OK\n",
      "Length: 807187 (788K) [text/plain]\n",
      "Saving to: ‘c14.pt.json.1’\n",
      "\n",
      "c14.pt.json.1       100%[===================>] 788.27K  --.-KB/s    in 0.03s   \n",
      "\n",
      "2020-09-21 02:42:54 (30.3 MB/s) - ‘c14.pt.json.1’ saved [807187/807187]\n",
      "\n",
      "--2020-09-21 02:42:54--  https://raw.githubusercontent.com/minhnq97/medical_data/master/crawl_md_question/c15.pt.json\n",
      "Resolving raw.githubusercontent.com (raw.githubusercontent.com)... 151.101.0.133, 151.101.64.133, 151.101.128.133, ...\n",
      "Connecting to raw.githubusercontent.com (raw.githubusercontent.com)|151.101.0.133|:443... connected.\n",
      "HTTP request sent, awaiting response... 200 OK\n",
      "Length: 465928 (455K) [text/plain]\n",
      "Saving to: ‘c15.pt.json.1’\n",
      "\n",
      "c15.pt.json.1       100%[===================>] 455.01K  --.-KB/s    in 0.02s   \n",
      "\n",
      "2020-09-21 02:42:54 (24.2 MB/s) - ‘c15.pt.json.1’ saved [465928/465928]\n",
      "\n",
      "--2020-09-21 02:42:54--  https://raw.githubusercontent.com/minhnq97/medical_data/master/crawl_md_question/c16.pt.json\n",
      "Resolving raw.githubusercontent.com (raw.githubusercontent.com)... 151.101.0.133, 151.101.64.133, 151.101.128.133, ...\n",
      "Connecting to raw.githubusercontent.com (raw.githubusercontent.com)|151.101.0.133|:443... connected.\n",
      "HTTP request sent, awaiting response... 200 OK\n",
      "Length: 46060 (45K) [text/plain]\n",
      "Saving to: ‘c16.pt.json.1’\n",
      "\n",
      "c16.pt.json.1       100%[===================>]  44.98K  --.-KB/s    in 0.007s  \n",
      "\n",
      "2020-09-21 02:42:55 (5.96 MB/s) - ‘c16.pt.json.1’ saved [46060/46060]\n",
      "\n",
      "--2020-09-21 02:42:55--  https://raw.githubusercontent.com/minhnq97/medical_data/master/crawl_md_question/c17.pt.json\n",
      "Resolving raw.githubusercontent.com (raw.githubusercontent.com)... 151.101.0.133, 151.101.64.133, 151.101.128.133, ...\n",
      "Connecting to raw.githubusercontent.com (raw.githubusercontent.com)|151.101.0.133|:443... connected.\n",
      "HTTP request sent, awaiting response... 200 OK\n",
      "Length: 333339 (326K) [text/plain]\n",
      "Saving to: ‘c17.pt.json.1’\n",
      "\n",
      "c17.pt.json.1       100%[===================>] 325.53K  --.-KB/s    in 0.02s   \n",
      "\n",
      "2020-09-21 02:42:55 (18.3 MB/s) - ‘c17.pt.json.1’ saved [333339/333339]\n",
      "\n",
      "--2020-09-21 02:42:55--  https://raw.githubusercontent.com/minhnq97/medical_data/master/crawl_md_question/c18.pt.json\n",
      "Resolving raw.githubusercontent.com (raw.githubusercontent.com)... 151.101.0.133, 151.101.64.133, 151.101.128.133, ...\n",
      "Connecting to raw.githubusercontent.com (raw.githubusercontent.com)|151.101.0.133|:443... connected.\n",
      "HTTP request sent, awaiting response... 200 OK\n",
      "Length: 175625 (172K) [text/plain]\n",
      "Saving to: ‘c18.pt.json.1’\n",
      "\n",
      "c18.pt.json.1       100%[===================>] 171.51K  --.-KB/s    in 0.01s   \n",
      "\n",
      "2020-09-21 02:42:55 (12.0 MB/s) - ‘c18.pt.json.1’ saved [175625/175625]\n",
      "\n",
      "--2020-09-21 02:42:55--  https://raw.githubusercontent.com/minhnq97/medical_data/master/crawl_md_question/c19.pt.json\n",
      "Resolving raw.githubusercontent.com (raw.githubusercontent.com)... 151.101.0.133, 151.101.64.133, 151.101.128.133, ...\n",
      "Connecting to raw.githubusercontent.com (raw.githubusercontent.com)|151.101.0.133|:443... connected.\n",
      "HTTP request sent, awaiting response... 200 OK\n",
      "Length: 380331 (371K) [text/plain]\n",
      "Saving to: ‘c19.pt.json.1’\n",
      "\n",
      "c19.pt.json.1       100%[===================>] 371.42K  --.-KB/s    in 0.02s   \n",
      "\n",
      "2020-09-21 02:42:56 (17.2 MB/s) - ‘c19.pt.json.1’ saved [380331/380331]\n",
      "\n",
      "--2020-09-21 02:42:56--  https://raw.githubusercontent.com/minhnq97/medical_data/master/crawl_md_question/c20.pt.json\n",
      "Resolving raw.githubusercontent.com (raw.githubusercontent.com)... 151.101.0.133, 151.101.64.133, 151.101.128.133, ...\n",
      "Connecting to raw.githubusercontent.com (raw.githubusercontent.com)|151.101.0.133|:443... connected.\n",
      "HTTP request sent, awaiting response... 200 OK\n",
      "Length: 389930 (381K) [text/plain]\n",
      "Saving to: ‘c20.pt.json.1’\n",
      "\n",
      "c20.pt.json.1       100%[===================>] 380.79K  --.-KB/s    in 0.02s   \n",
      "\n",
      "2020-09-21 02:42:56 (16.1 MB/s) - ‘c20.pt.json.1’ saved [389930/389930]\n",
      "\n",
      "--2020-09-21 02:42:56--  https://raw.githubusercontent.com/minhnq97/medical_data/master/crawl_md_question/c21.pt.json\n",
      "Resolving raw.githubusercontent.com (raw.githubusercontent.com)... 151.101.0.133, 151.101.64.133, 151.101.128.133, ...\n",
      "Connecting to raw.githubusercontent.com (raw.githubusercontent.com)|151.101.0.133|:443... connected.\n",
      "HTTP request sent, awaiting response... 200 OK\n",
      "Length: 515856 (504K) [text/plain]\n",
      "Saving to: ‘c21.pt.json.1’\n",
      "\n",
      "c21.pt.json.1       100%[===================>] 503.77K  --.-KB/s    in 0.03s   \n",
      "\n",
      "2020-09-21 02:42:56 (18.8 MB/s) - ‘c21.pt.json.1’ saved [515856/515856]\n",
      "\n",
      "--2020-09-21 02:42:56--  https://raw.githubusercontent.com/minhnq97/medical_data/master/crawl_md_question/c22.pt.json\n",
      "Resolving raw.githubusercontent.com (raw.githubusercontent.com)... 151.101.0.133, 151.101.64.133, 151.101.128.133, ...\n",
      "Connecting to raw.githubusercontent.com (raw.githubusercontent.com)|151.101.0.133|:443... connected.\n",
      "HTTP request sent, awaiting response... 200 OK\n",
      "Length: 67033 (65K) [text/plain]\n",
      "Saving to: ‘c22.pt.json.1’\n",
      "\n",
      "c22.pt.json.1       100%[===================>]  65.46K  --.-KB/s    in 0.008s  \n",
      "\n",
      "2020-09-21 02:42:56 (8.35 MB/s) - ‘c22.pt.json.1’ saved [67033/67033]\n",
      "\n",
      "--2020-09-21 02:42:56--  https://raw.githubusercontent.com/minhnq97/medical_data/master/crawl_md_question/c23.pt.json\n",
      "Resolving raw.githubusercontent.com (raw.githubusercontent.com)... 151.101.0.133, 151.101.64.133, 151.101.128.133, ...\n",
      "Connecting to raw.githubusercontent.com (raw.githubusercontent.com)|151.101.0.133|:443... connected.\n",
      "HTTP request sent, awaiting response... 200 OK\n",
      "Length: 85335 (83K) [text/plain]\n",
      "Saving to: ‘c23.pt.json.1’\n",
      "\n",
      "c23.pt.json.1       100%[===================>]  83.33K  --.-KB/s    in 0.009s  \n",
      "\n",
      "2020-09-21 02:42:56 (8.82 MB/s) - ‘c23.pt.json.1’ saved [85335/85335]\n",
      "\n",
      "--2020-09-21 02:42:56--  https://raw.githubusercontent.com/minhnq97/medical_data/master/crawl_md_question/c24.pt.json\n",
      "Resolving raw.githubusercontent.com (raw.githubusercontent.com)... 151.101.0.133, 151.101.64.133, 151.101.128.133, ...\n",
      "Connecting to raw.githubusercontent.com (raw.githubusercontent.com)|151.101.0.133|:443... connected.\n",
      "HTTP request sent, awaiting response... 200 OK\n",
      "Length: 104623 (102K) [text/plain]\n",
      "Saving to: ‘c24.pt.json.1’\n",
      "\n",
      "c24.pt.json.1       100%[===================>] 102.17K  --.-KB/s    in 0.01s   \n",
      "\n",
      "2020-09-21 02:42:57 (9.08 MB/s) - ‘c24.pt.json.1’ saved [104623/104623]\n",
      "\n",
      "--2020-09-21 02:42:57--  https://raw.githubusercontent.com/minhnq97/medical_data/master/crawl_md_question/c25.pt.json\n",
      "Resolving raw.githubusercontent.com (raw.githubusercontent.com)... 151.101.0.133, 151.101.64.133, 151.101.128.133, ...\n",
      "Connecting to raw.githubusercontent.com (raw.githubusercontent.com)|151.101.0.133|:443... connected.\n",
      "HTTP request sent, awaiting response... 200 OK\n",
      "Length: 579121 (566K) [text/plain]\n",
      "Saving to: ‘c25.pt.json.1’\n",
      "\n",
      "c25.pt.json.1       100%[===================>] 565.55K  --.-KB/s    in 0.03s   \n",
      "\n",
      "2020-09-21 02:42:57 (20.8 MB/s) - ‘c25.pt.json.1’ saved [579121/579121]\n",
      "\n",
      "--2020-09-21 02:42:57--  https://raw.githubusercontent.com/minhnq97/medical_data/master/crawl_md_question/c26.pt.json\n",
      "Resolving raw.githubusercontent.com (raw.githubusercontent.com)... 151.101.0.133, 151.101.64.133, 151.101.128.133, ...\n",
      "Connecting to raw.githubusercontent.com (raw.githubusercontent.com)|151.101.0.133|:443... connected.\n",
      "HTTP request sent, awaiting response... 200 OK\n",
      "Length: 1076022 (1.0M) [text/plain]\n",
      "Saving to: ‘c26.pt.json.1’\n",
      "\n",
      "c26.pt.json.1       100%[===================>]   1.03M  --.-KB/s    in 0.04s   \n",
      "\n",
      "2020-09-21 02:42:57 (24.0 MB/s) - ‘c26.pt.json.1’ saved [1076022/1076022]\n",
      "\n",
      "--2020-09-21 02:42:57--  https://raw.githubusercontent.com/minhnq97/medical_data/master/crawl_md_question/c27.pt.json\n",
      "Resolving raw.githubusercontent.com (raw.githubusercontent.com)... 151.101.0.133, 151.101.64.133, 151.101.128.133, ...\n",
      "Connecting to raw.githubusercontent.com (raw.githubusercontent.com)|151.101.0.133|:443... connected.\n",
      "HTTP request sent, awaiting response... 200 OK\n",
      "Length: 780818 (763K) [text/plain]\n",
      "Saving to: ‘c27.pt.json.1’\n",
      "\n",
      "c27.pt.json.1       100%[===================>] 762.52K  --.-KB/s    in 0.03s   \n",
      "\n",
      "2020-09-21 02:42:58 (23.6 MB/s) - ‘c27.pt.json.1’ saved [780818/780818]\n",
      "\n",
      "--2020-09-21 02:42:58--  https://raw.githubusercontent.com/minhnq97/medical_data/master/crawl_md_question/c28.pt.json\n",
      "Resolving raw.githubusercontent.com (raw.githubusercontent.com)... 151.101.0.133, 151.101.64.133, 151.101.128.133, ...\n",
      "Connecting to raw.githubusercontent.com (raw.githubusercontent.com)|151.101.0.133|:443... connected.\n",
      "HTTP request sent, awaiting response... 200 OK\n",
      "Length: 11956 (12K) [text/plain]\n",
      "Saving to: ‘c28.pt.json.1’\n",
      "\n",
      "c28.pt.json.1       100%[===================>]  11.68K  --.-KB/s    in 0s      \n",
      "\n",
      "2020-09-21 02:42:58 (103 MB/s) - ‘c28.pt.json.1’ saved [11956/11956]\n",
      "\n",
      "--2020-09-21 02:42:58--  https://raw.githubusercontent.com/minhnq97/medical_data/master/crawl_md_question/c29.pt.json\n",
      "Resolving raw.githubusercontent.com (raw.githubusercontent.com)... 151.101.0.133, 151.101.64.133, 151.101.128.133, ...\n",
      "Connecting to raw.githubusercontent.com (raw.githubusercontent.com)|151.101.0.133|:443... connected.\n",
      "HTTP request sent, awaiting response... 200 OK\n",
      "Length: 66809 (65K) [text/plain]\n",
      "Saving to: ‘c29.pt.json.1’\n",
      "\n",
      "c29.pt.json.1       100%[===================>]  65.24K  --.-KB/s    in 0.008s  \n",
      "\n",
      "2020-09-21 02:42:58 (7.65 MB/s) - ‘c29.pt.json.1’ saved [66809/66809]\n",
      "\n",
      "--2020-09-21 02:42:58--  https://raw.githubusercontent.com/minhnq97/medical_data/master/crawl_md_question/c30.pt.json\n",
      "Resolving raw.githubusercontent.com (raw.githubusercontent.com)... 151.101.0.133, 151.101.64.133, 151.101.128.133, ...\n",
      "Connecting to raw.githubusercontent.com (raw.githubusercontent.com)|151.101.0.133|:443... connected.\n",
      "HTTP request sent, awaiting response... 200 OK\n",
      "Length: 128900 (126K) [text/plain]\n",
      "Saving to: ‘c30.pt.json.1’\n",
      "\n",
      "c30.pt.json.1       100%[===================>] 125.88K  --.-KB/s    in 0.01s   \n",
      "\n",
      "2020-09-21 02:42:58 (10.0 MB/s) - ‘c30.pt.json.1’ saved [128900/128900]\n",
      "\n",
      "--2020-09-21 02:42:58--  https://raw.githubusercontent.com/minhnq97/medical_data/master/crawl_md_question/c31.pt.json\n",
      "Resolving raw.githubusercontent.com (raw.githubusercontent.com)... 151.101.0.133, 151.101.64.133, 151.101.128.133, ...\n",
      "Connecting to raw.githubusercontent.com (raw.githubusercontent.com)|151.101.0.133|:443... connected.\n",
      "HTTP request sent, awaiting response... 200 OK\n",
      "Length: 40915 (40K) [text/plain]\n",
      "Saving to: ‘c31.pt.json.1’\n",
      "\n",
      "c31.pt.json.1       100%[===================>]  39.96K  --.-KB/s    in 0.005s  \n",
      "\n",
      "2020-09-21 02:42:59 (8.55 MB/s) - ‘c31.pt.json.1’ saved [40915/40915]\n",
      "\n",
      "--2020-09-21 02:42:59--  https://raw.githubusercontent.com/minhnq97/medical_data/master/crawl_md_question/c32.pt.json\n",
      "Resolving raw.githubusercontent.com (raw.githubusercontent.com)... 151.101.0.133, 151.101.64.133, 151.101.128.133, ...\n",
      "Connecting to raw.githubusercontent.com (raw.githubusercontent.com)|151.101.0.133|:443... connected.\n",
      "HTTP request sent, awaiting response... 200 OK\n",
      "Length: 150617 (147K) [text/plain]\n",
      "Saving to: ‘c32.pt.json.1’\n",
      "\n",
      "c32.pt.json.1       100%[===================>] 147.09K  --.-KB/s    in 0.01s   \n",
      "\n",
      "2020-09-21 02:42:59 (10.3 MB/s) - ‘c32.pt.json.1’ saved [150617/150617]\n",
      "\n",
      "--2020-09-21 02:42:59--  https://raw.githubusercontent.com/minhnq97/medical_data/master/crawl_md_question/c33.pt.json\n",
      "Resolving raw.githubusercontent.com (raw.githubusercontent.com)... 151.101.0.133, 151.101.64.133, 151.101.128.133, ...\n",
      "Connecting to raw.githubusercontent.com (raw.githubusercontent.com)|151.101.0.133|:443... connected.\n",
      "HTTP request sent, awaiting response... 200 OK\n",
      "Length: 517437 (505K) [text/plain]\n",
      "Saving to: ‘c33.pt.json.1’\n",
      "\n",
      "c33.pt.json.1       100%[===================>] 505.31K  --.-KB/s    in 0.03s   \n",
      "\n",
      "2020-09-21 02:42:59 (18.4 MB/s) - ‘c33.pt.json.1’ saved [517437/517437]\n",
      "\n",
      "--2020-09-21 02:42:59--  https://raw.githubusercontent.com/minhnq97/medical_data/master/crawl_md_question/c34.pt.json\n",
      "Resolving raw.githubusercontent.com (raw.githubusercontent.com)... 151.101.0.133, 151.101.64.133, 151.101.128.133, ...\n",
      "Connecting to raw.githubusercontent.com (raw.githubusercontent.com)|151.101.0.133|:443... connected.\n",
      "HTTP request sent, awaiting response... 200 OK\n",
      "Length: 167561 (164K) [text/plain]\n",
      "Saving to: ‘c34.pt.json.1’\n",
      "\n",
      "c34.pt.json.1       100%[===================>] 163.63K  --.-KB/s    in 0.01s   \n",
      "\n",
      "2020-09-21 02:42:59 (12.5 MB/s) - ‘c34.pt.json.1’ saved [167561/167561]\n",
      "\n",
      "--2020-09-21 02:42:59--  https://raw.githubusercontent.com/minhnq97/medical_data/master/crawl_md_question/c35.pt.json\n",
      "Resolving raw.githubusercontent.com (raw.githubusercontent.com)... 151.101.0.133, 151.101.64.133, 151.101.128.133, ...\n",
      "Connecting to raw.githubusercontent.com (raw.githubusercontent.com)|151.101.0.133|:443... connected.\n",
      "HTTP request sent, awaiting response... 200 OK\n",
      "Length: 303399 (296K) [text/plain]\n",
      "Saving to: ‘c35.pt.json.1’\n",
      "\n",
      "c35.pt.json.1       100%[===================>] 296.29K  --.-KB/s    in 0.03s   \n",
      "\n",
      "2020-09-21 02:43:00 (11.5 MB/s) - ‘c35.pt.json.1’ saved [303399/303399]\n",
      "\n",
      "--2020-09-21 02:43:00--  https://raw.githubusercontent.com/minhnq97/medical_data/master/crawl_md_question/c39.pt.json\n",
      "Resolving raw.githubusercontent.com (raw.githubusercontent.com)... 151.101.0.133, 151.101.64.133, 151.101.128.133, ...\n",
      "Connecting to raw.githubusercontent.com (raw.githubusercontent.com)|151.101.0.133|:443... connected.\n",
      "HTTP request sent, awaiting response... 200 OK\n",
      "Length: 1478 (1.4K) [text/plain]\n",
      "Saving to: ‘c39.pt.json.1’\n",
      "\n",
      "c39.pt.json.1       100%[===================>]   1.44K  --.-KB/s    in 0s      \n",
      "\n",
      "2020-09-21 02:43:00 (39.2 MB/s) - ‘c39.pt.json.1’ saved [1478/1478]\n",
      "\n",
      "--2020-09-21 02:43:00--  https://raw.githubusercontent.com/minhnq97/medical_data/master/crawl_md_question/c55.pt.json\n",
      "Resolving raw.githubusercontent.com (raw.githubusercontent.com)... 151.101.0.133, 151.101.64.133, 151.101.128.133, ...\n",
      "Connecting to raw.githubusercontent.com (raw.githubusercontent.com)|151.101.0.133|:443... connected.\n",
      "HTTP request sent, awaiting response... 200 OK\n",
      "Length: 184410 (180K) [text/plain]\n",
      "Saving to: ‘c55.pt.json.1’\n",
      "\n",
      "c55.pt.json.1       100%[===================>] 180.09K  --.-KB/s    in 0.01s   \n",
      "\n",
      "2020-09-21 02:43:00 (14.0 MB/s) - ‘c55.pt.json.1’ saved [184410/184410]\n",
      "\n",
      "--2020-09-21 02:43:00--  https://raw.githubusercontent.com/minhnq97/medical_data/master/crawl_md_question/c56.pt.json\n",
      "Resolving raw.githubusercontent.com (raw.githubusercontent.com)... 151.101.0.133, 151.101.64.133, 151.101.128.133, ...\n",
      "Connecting to raw.githubusercontent.com (raw.githubusercontent.com)|151.101.0.133|:443... connected.\n",
      "HTTP request sent, awaiting response... 200 OK\n",
      "Length: 2230 (2.2K) [text/plain]\n",
      "Saving to: ‘c56.pt.json.1’\n",
      "\n",
      "c56.pt.json.1       100%[===================>]   2.18K  --.-KB/s    in 0s      \n",
      "\n",
      "2020-09-21 02:43:00 (44.2 MB/s) - ‘c56.pt.json.1’ saved [2230/2230]\n",
      "\n",
      "--2020-09-21 02:43:00--  https://raw.githubusercontent.com/minhnq97/medical_data/master/crawl_md_question/c57.pt.json\n",
      "Resolving raw.githubusercontent.com (raw.githubusercontent.com)... 151.101.0.133, 151.101.64.133, 151.101.128.133, ...\n",
      "Connecting to raw.githubusercontent.com (raw.githubusercontent.com)|151.101.0.133|:443... connected.\n",
      "HTTP request sent, awaiting response... 200 OK\n",
      "Length: 398 [text/plain]\n",
      "Saving to: ‘c57.pt.json.1’\n",
      "\n",
      "c57.pt.json.1       100%[===================>]     398  --.-KB/s    in 0s      \n",
      "\n",
      "2020-09-21 02:43:00 (24.0 MB/s) - ‘c57.pt.json.1’ saved [398/398]\n",
      "\n",
      "--2020-09-21 02:43:00--  https://raw.githubusercontent.com/minhnq97/medical_data/master/crawl_md_question/c58.pt.json\n",
      "Resolving raw.githubusercontent.com (raw.githubusercontent.com)... 151.101.0.133, 151.101.64.133, 151.101.128.133, ...\n",
      "Connecting to raw.githubusercontent.com (raw.githubusercontent.com)|151.101.0.133|:443... connected.\n",
      "HTTP request sent, awaiting response... 200 OK\n",
      "Length: 8421 (8.2K) [text/plain]\n",
      "Saving to: ‘c58.pt.json.1’\n",
      "\n",
      "c58.pt.json.1       100%[===================>]   8.22K  --.-KB/s    in 0s      \n",
      "\n",
      "2020-09-21 02:43:01 (31.5 MB/s) - ‘c58.pt.json.1’ saved [8421/8421]\n",
      "\n",
      "--2020-09-21 02:43:01--  https://raw.githubusercontent.com/minhnq97/medical_data/master/crawl_md_question/c60.pt.json\n",
      "Resolving raw.githubusercontent.com (raw.githubusercontent.com)... 151.101.0.133, 151.101.64.133, 151.101.128.133, ...\n",
      "Connecting to raw.githubusercontent.com (raw.githubusercontent.com)|151.101.0.133|:443... connected.\n",
      "HTTP request sent, awaiting response... 200 OK\n",
      "Length: 9758 (9.5K) [text/plain]\n",
      "Saving to: ‘c60.pt.json.1’\n",
      "\n",
      "c60.pt.json.1       100%[===================>]   9.53K  --.-KB/s    in 0s      \n",
      "\n",
      "2020-09-21 02:43:01 (73.5 MB/s) - ‘c60.pt.json.1’ saved [9758/9758]\n",
      "\n",
      "--2020-09-21 02:43:01--  https://raw.githubusercontent.com/minhnq97/medical_data/master/crawl_md_question/c61.pt.json\n",
      "Resolving raw.githubusercontent.com (raw.githubusercontent.com)... 151.101.0.133, 151.101.64.133, 151.101.128.133, ...\n",
      "Connecting to raw.githubusercontent.com (raw.githubusercontent.com)|151.101.0.133|:443... connected.\n",
      "HTTP request sent, awaiting response... 200 OK\n",
      "Length: 119240 (116K) [text/plain]\n",
      "Saving to: ‘c61.pt.json.1’\n",
      "\n",
      "c61.pt.json.1       100%[===================>] 116.45K  --.-KB/s    in 0.01s   \n",
      "\n",
      "2020-09-21 02:43:01 (9.56 MB/s) - ‘c61.pt.json.1’ saved [119240/119240]\n",
      "\n",
      "--2020-09-21 02:43:01--  https://raw.githubusercontent.com/minhnq97/medical_data/master/crawl_md_question/c62.pt.json\n",
      "Resolving raw.githubusercontent.com (raw.githubusercontent.com)... 151.101.0.133, 151.101.64.133, 151.101.128.133, ...\n",
      "Connecting to raw.githubusercontent.com (raw.githubusercontent.com)|151.101.0.133|:443... connected.\n",
      "HTTP request sent, awaiting response... 200 OK\n",
      "Length: 10286 (10K) [text/plain]\n",
      "Saving to: ‘c62.pt.json.1’\n",
      "\n",
      "c62.pt.json.1       100%[===================>]  10.04K  --.-KB/s    in 0s      \n",
      "\n",
      "2020-09-21 02:43:01 (99.2 MB/s) - ‘c62.pt.json.1’ saved [10286/10286]\n",
      "\n",
      "--2020-09-21 02:43:01--  https://raw.githubusercontent.com/minhnq97/medical_data/master/crawl_md_question/c64.pt.json\n",
      "Resolving raw.githubusercontent.com (raw.githubusercontent.com)... 151.101.0.133, 151.101.64.133, 151.101.128.133, ...\n",
      "Connecting to raw.githubusercontent.com (raw.githubusercontent.com)|151.101.0.133|:443... connected.\n",
      "HTTP request sent, awaiting response... 200 OK\n",
      "Length: 39881 (39K) [text/plain]\n",
      "Saving to: ‘c64.pt.json.1’\n",
      "\n",
      "c64.pt.json.1       100%[===================>]  38.95K  --.-KB/s    in 0.004s  \n",
      "\n",
      "2020-09-21 02:43:01 (8.60 MB/s) - ‘c64.pt.json.1’ saved [39881/39881]\n",
      "\n",
      "--2020-09-21 02:43:01--  https://raw.githubusercontent.com/minhnq97/medical_data/master/crawl_md_question/c73.pt.json\n",
      "Resolving raw.githubusercontent.com (raw.githubusercontent.com)... 151.101.0.133, 151.101.64.133, 151.101.128.133, ...\n",
      "Connecting to raw.githubusercontent.com (raw.githubusercontent.com)|151.101.0.133|:443... connected.\n",
      "HTTP request sent, awaiting response... 200 OK\n",
      "Length: 240455 (235K) [text/plain]\n",
      "Saving to: ‘c73.pt.json.1’\n",
      "\n",
      "c73.pt.json.1       100%[===================>] 234.82K  --.-KB/s    in 0.02s   \n",
      "\n",
      "2020-09-21 02:43:02 (14.5 MB/s) - ‘c73.pt.json.1’ saved [240455/240455]\n",
      "\n",
      "--2020-09-21 02:43:02--  https://raw.githubusercontent.com/minhnq97/medical_data/master/crawl_md_question/c74.pt.json\n",
      "Resolving raw.githubusercontent.com (raw.githubusercontent.com)... 151.101.0.133, 151.101.64.133, 151.101.128.133, ...\n",
      "Connecting to raw.githubusercontent.com (raw.githubusercontent.com)|151.101.0.133|:443... connected.\n",
      "HTTP request sent, awaiting response... 200 OK\n",
      "Length: 44053 (43K) [text/plain]\n",
      "Saving to: ‘c74.pt.json.1’\n",
      "\n",
      "c74.pt.json.1       100%[===================>]  43.02K  --.-KB/s    in 0.008s  \n",
      "\n",
      "2020-09-21 02:43:02 (5.29 MB/s) - ‘c74.pt.json.1’ saved [44053/44053]\n",
      "\n",
      "--2020-09-21 02:43:02--  https://raw.githubusercontent.com/minhnq97/medical_data/master/crawl_md_question/c76.pt.json\n",
      "Resolving raw.githubusercontent.com (raw.githubusercontent.com)... 151.101.0.133, 151.101.64.133, 151.101.128.133, ...\n",
      "Connecting to raw.githubusercontent.com (raw.githubusercontent.com)|151.101.0.133|:443... connected.\n",
      "HTTP request sent, awaiting response... 200 OK\n",
      "Length: 131442 (128K) [text/plain]\n",
      "Saving to: ‘c76.pt.json.1’\n",
      "\n",
      "c76.pt.json.1       100%[===================>] 128.36K  --.-KB/s    in 0.01s   \n",
      "\n",
      "2020-09-21 02:43:02 (10.4 MB/s) - ‘c76.pt.json.1’ saved [131442/131442]\n",
      "\n"
     ]
    }
   ],
   "source": [
    "!rm -r medlatec\n",
    "!mkdir medlatec\n",
    "\n",
    "!for x in 3 4 5 6 7 9 10 11 13 14 15 16 17 18 19 20 21 22 23 24 25 26 27 28 29 30 31 32 33 34 35 39 55 56 57 58 60 61 62 64 73 74 76; do wget https://raw.githubusercontent.com/minhnq97/medical_data/master/crawl_md_question/c$x.pt.json; done"
   ]
  },
  {
   "cell_type": "code",
   "execution_count": 53,
   "metadata": {
    "colab": {
     "base_uri": "https://localhost:8080/",
     "height": 359
    },
    "colab_type": "code",
    "id": "hlyI6TefR1Ni",
    "outputId": "443582af-9b08-430b-cb98-65e0941525fb"
   },
   "outputs": [
    {
     "name": "stdout",
     "output_type": "stream",
     "text": [
      "Requirement already satisfied: underthesea in /usr/local/lib/python3.6/dist-packages (1.1.17)\n",
      "Requirement already satisfied: nltk<3.5,>=3.4 in /usr/local/lib/python3.6/dist-packages (from underthesea) (3.4.5)\n",
      "Requirement already satisfied: Click>=6.0 in /usr/local/lib/python3.6/dist-packages (from underthesea) (7.1.2)\n",
      "Requirement already satisfied: languageflow==1.1.13a1 in /usr/local/lib/python3.6/dist-packages (from underthesea) (1.1.13a1)\n",
      "Requirement already satisfied: python-crfsuite==0.9.6 in /usr/local/lib/python3.6/dist-packages (from underthesea) (0.9.6)\n",
      "Requirement already satisfied: six in /usr/local/lib/python3.6/dist-packages (from nltk<3.5,>=3.4->underthesea) (1.15.0)\n",
      "Requirement already satisfied: tqdm in /usr/local/lib/python3.6/dist-packages (from languageflow==1.1.13a1->underthesea) (4.41.1)\n",
      "Requirement already satisfied: clint in /usr/local/lib/python3.6/dist-packages (from languageflow==1.1.13a1->underthesea) (0.5.1)\n",
      "Requirement already satisfied: scikit-learn==0.20.3 in /usr/local/lib/python3.6/dist-packages (from languageflow==1.1.13a1->underthesea) (0.20.3)\n",
      "Requirement already satisfied: tabulate in /usr/local/lib/python3.6/dist-packages (from languageflow==1.1.13a1->underthesea) (0.8.7)\n",
      "Requirement already satisfied: requests in /usr/local/lib/python3.6/dist-packages (from languageflow==1.1.13a1->underthesea) (2.23.0)\n",
      "Requirement already satisfied: joblib==0.13.2 in /usr/local/lib/python3.6/dist-packages (from languageflow==1.1.13a1->underthesea) (0.13.2)\n",
      "Requirement already satisfied: args in /usr/local/lib/python3.6/dist-packages (from clint->languageflow==1.1.13a1->underthesea) (0.1.0)\n",
      "Requirement already satisfied: scipy>=0.13.3 in /usr/local/lib/python3.6/dist-packages (from scikit-learn==0.20.3->languageflow==1.1.13a1->underthesea) (1.4.1)\n",
      "Requirement already satisfied: numpy>=1.8.2 in /usr/local/lib/python3.6/dist-packages (from scikit-learn==0.20.3->languageflow==1.1.13a1->underthesea) (1.18.5)\n",
      "Requirement already satisfied: chardet<4,>=3.0.2 in /usr/local/lib/python3.6/dist-packages (from requests->languageflow==1.1.13a1->underthesea) (3.0.4)\n",
      "Requirement already satisfied: idna<3,>=2.5 in /usr/local/lib/python3.6/dist-packages (from requests->languageflow==1.1.13a1->underthesea) (2.10)\n",
      "Requirement already satisfied: certifi>=2017.4.17 in /usr/local/lib/python3.6/dist-packages (from requests->languageflow==1.1.13a1->underthesea) (2020.6.20)\n",
      "Requirement already satisfied: urllib3!=1.25.0,!=1.25.1,<1.26,>=1.21.1 in /usr/local/lib/python3.6/dist-packages (from requests->languageflow==1.1.13a1->underthesea) (1.24.3)\n"
     ]
    }
   ],
   "source": [
    "!pip install underthesea"
   ]
  },
  {
   "cell_type": "markdown",
   "metadata": {
    "colab_type": "text",
    "id": "Jqbw4V0XkZRs"
   },
   "source": [
    "## Loading data\n",
    "\n",
    "In this notebook, I will attempt to use the title of the data to predict the category of the paper.\n",
    " \n",
    "The data will be recorded with the form of tuples (title, category)."
   ]
  },
  {
   "cell_type": "code",
   "execution_count": 54,
   "metadata": {
    "colab": {},
    "colab_type": "code",
    "id": "hmN98lGskgcD"
   },
   "outputs": [],
   "source": [
    "import re\n",
    "import json\n",
    "import seaborn as sns\n",
    "import matplotlib.pyplot as plt\n",
    "from underthesea import word_tokenize\n",
    "from underthesea import pos_tag\n",
    "from tqdm import tqdm\n",
    "# 39 56 57 has too few samples\n",
    "# test remove 3 4 \n",
    "list_index_data = [3, 4, 5, 6, 7, 9, 10, 11, 13, 14, 15, 16, 17, 18, 19, 20, 21, \n",
    "                      22, 23, 24, 25, 26, 27, 28, 29, 30, 31, 32, 33, 34, 35, 39, 55, \n",
    "                       56, 57, 58, 60, 61, 62, 64, 73, 74, 76]\n",
    "\n",
    "REPLACE_SHORT_WORD = {\"e\":\"em\", \"k\": \"không\", \"ko\": \"không\", \"xn\": \"xét nghiệm\", \"bv\":\"bệnh viện\", \"bsi\": \"bác sĩ\", \"bs\": \"bác sĩ\"}\n",
    "REPLACE_BY_SPACE_RE = re.compile('[/(){}\\[\\]\\|@.,;\\-\\'\\\\n]')\n",
    "BAD_SYMBOLS_RE = re.compile('[~!@#$%^&*-+=?:]')\n",
    "\n",
    "\n",
    "def _format_line(sentence):\n",
    "    sentence = sentence.lower()\n",
    "    sentence = REPLACE_BY_SPACE_RE.sub(' ', sentence)\n",
    "    sentence = BAD_SYMBOLS_RE.sub('', sentence)\n",
    "    sentence = ' '.join([REPLACE_SHORT_WORD[word] if word in REPLACE_SHORT_WORD else word for word in sentence.split()])\n",
    "    sentence = ' '.join([\"0\" if word.isnumeric() else word for word in sentence.split()])\n",
    "    sentence = ' '.join([\"\" if any(map(str.isdigit, word)) is True else word for word in sentence.split()])\n",
    "    # sentence = word_tokenize(sentence, format=\"text\")\n",
    "    tags = pos_tag(sentence)\n",
    "    sentence = ' '.join([ w  for w,t in tags if t not in['C', 'Cc', 'CH', 'E', 'I', 'L', 'P', 'R', 'T' ]])\n",
    "\n",
    "    return sentence\n",
    "\n",
    "def load_data():\n",
    "    all_data=[]\n",
    "    for index in list_index_data:\n",
    "        with open(\"c\"+ str(index) + \".pt.json\", \"rt\") as f:\n",
    "          batch_data = json.load(f)\n",
    "          for data in tqdm(batch_data): \n",
    "              # print(data['q_content'])\n",
    "              # print(data['c_id'])\n",
    "              all_data.append(( _format_line(data['q_title']) + \" \" + _format_line(data['q_content']), data['c_id']))\n",
    "    return all_data\n",
    "\n",
    "def redefine_data(all_data, threshold=20):\n",
    "    new_data=[]\n",
    "    label_list=[]\n",
    "    label_freq = {}\n",
    "    for data in all_data:\n",
    "        c_id = data[1]\n",
    "        if c_id not in label_freq:\n",
    "            label_freq[c_id] = 1\n",
    "        else:\n",
    "            label_freq[c_id] += 1\n",
    "    \n",
    "    for data in all_data:\n",
    "        c_id = data[1]\n",
    "        if label_freq[c_id] > threshold:\n",
    "            new_data.append(data)\n",
    "            label_list.append(c_id)\n",
    "\n",
    "    return new_data, list(set(label_list))\n",
    "\n",
    "def merge_data_by_category(all_data, target_merge=None):\n",
    "    if target_merge is None:\n",
    "        return all_data, None\n",
    "    else:\n",
    "        new_data=[]\n",
    "        label_list = []\n",
    "        for data in all_data:\n",
    "            c_id = data[1]\n",
    "            if c_id in target_merge:\n",
    "                data = (data[0],target_merge[c_id])\n",
    "            new_data.append(data)\n",
    "            label_list.append(c_id)\n",
    "        return new_data, list(set(label_list))\n",
    "\n",
    "def drop_category(all_data, drop_target=None):\n",
    "    if drop_target is None:\n",
    "        return all_data, None\n",
    "    else:\n",
    "        new_data=[]\n",
    "        label_list = []\n",
    "        for data in all_data:\n",
    "            c_id = data[1]\n",
    "            if c_id not in drop_target:\n",
    "                new_data.append(data)\n",
    "                label_list.append(c_id)\n",
    "        return new_data, list(set(label_list))\n",
    "    \n"
   ]
  },
  {
   "cell_type": "code",
   "execution_count": 55,
   "metadata": {
    "colab": {
     "base_uri": "https://localhost:8080/",
     "height": 35
    },
    "colab_type": "code",
    "id": "E7v5S3Yr5fOx",
    "outputId": "6f56a917-d572-4bf5-cf2e-ea5af5b7f103"
   },
   "outputs": [
    {
     "name": "stdout",
     "output_type": "stream",
     "text": [
      "chàng trai quảng trị khởi nghiệp nấm sò\n"
     ]
    }
   ],
   "source": [
    "print(_format_line('Chàng trai 9X Quảng Trị khởi nghiệp từ nấm sò'))"
   ]
  },
  {
   "cell_type": "code",
   "execution_count": 56,
   "metadata": {
    "colab": {
     "base_uri": "https://localhost:8080/",
     "height": 791
    },
    "colab_type": "code",
    "id": "e337XbpIgler",
    "outputId": "ae740a5c-51e2-4229-bc7c-433ea8e680f2"
   },
   "outputs": [
    {
     "name": "stderr",
     "output_type": "stream",
     "text": [
      "100%|██████████| 1127/1127 [00:21<00:00, 51.33it/s]\n",
      "100%|██████████| 7650/7650 [02:50<00:00, 44.82it/s]\n",
      "100%|██████████| 244/244 [00:04<00:00, 58.51it/s]\n",
      "100%|██████████| 645/645 [00:09<00:00, 64.61it/s]\n",
      "100%|██████████| 1355/1355 [00:33<00:00, 40.05it/s]\n",
      "100%|██████████| 1353/1353 [00:23<00:00, 58.82it/s]\n",
      "100%|██████████| 949/949 [00:22<00:00, 41.66it/s]\n",
      "100%|██████████| 1436/1436 [00:27<00:00, 52.89it/s]\n",
      "100%|██████████| 233/233 [00:04<00:00, 48.02it/s]\n",
      "100%|██████████| 524/524 [00:13<00:00, 40.09it/s]\n",
      "100%|██████████| 348/348 [00:06<00:00, 56.33it/s]\n",
      "100%|██████████| 27/27 [00:00<00:00, 30.84it/s]\n",
      "100%|██████████| 262/262 [00:03<00:00, 71.15it/s]\n",
      "100%|██████████| 126/126 [00:02<00:00, 51.10it/s]\n",
      "100%|██████████| 281/281 [00:05<00:00, 54.08it/s]\n",
      "100%|██████████| 344/344 [00:03<00:00, 98.98it/s] \n",
      "100%|██████████| 388/388 [00:06<00:00, 62.49it/s]\n",
      "100%|██████████| 54/54 [00:00<00:00, 70.30it/s]\n",
      "100%|██████████| 70/70 [00:01<00:00, 66.69it/s]\n",
      "100%|██████████| 61/61 [00:02<00:00, 21.03it/s]\n",
      "100%|██████████| 371/371 [00:12<00:00, 29.84it/s]\n",
      "100%|██████████| 823/823 [00:17<00:00, 48.14it/s]\n",
      "100%|██████████| 471/471 [00:12<00:00, 36.40it/s]\n",
      "100%|██████████| 10/10 [00:00<00:00, 83.08it/s]\n",
      "100%|██████████| 51/51 [00:00<00:00, 70.93it/s]\n",
      "100%|██████████| 83/83 [00:00<00:00, 87.06it/s]\n",
      "100%|██████████| 34/34 [00:00<00:00, 58.03it/s]\n",
      "100%|██████████| 109/109 [00:02<00:00, 46.64it/s]\n",
      "100%|██████████| 369/369 [00:07<00:00, 47.55it/s]\n",
      "100%|██████████| 116/116 [00:01<00:00, 61.22it/s]\n",
      "100%|██████████| 218/218 [00:05<00:00, 37.07it/s]\n",
      "100%|██████████| 2/2 [00:00<00:00, 88.32it/s]\n",
      "100%|██████████| 135/135 [00:03<00:00, 34.71it/s]\n",
      "100%|██████████| 3/3 [00:00<00:00, 160.70it/s]\n",
      "100%|██████████| 1/1 [00:00<00:00, 271.32it/s]\n",
      "100%|██████████| 7/7 [00:00<00:00, 83.68it/s]\n",
      "100%|██████████| 7/7 [00:00<00:00, 34.35it/s]\n",
      "100%|██████████| 85/85 [00:01<00:00, 54.96it/s]\n",
      "100%|██████████| 7/7 [00:00<00:00, 70.12it/s]\n",
      "100%|██████████| 30/30 [00:00<00:00, 102.45it/s]\n",
      "100%|██████████| 188/188 [00:03<00:00, 59.04it/s]\n",
      "100%|██████████| 33/33 [00:00<00:00, 55.22it/s]\n",
      "100%|██████████| 97/97 [00:01<00:00, 56.78it/s]\n"
     ]
    }
   ],
   "source": [
    "all_data = load_data()"
   ]
  },
  {
   "cell_type": "code",
   "execution_count": 57,
   "metadata": {
    "colab": {
     "base_uri": "https://localhost:8080/",
     "height": 35
    },
    "colab_type": "code",
    "id": "iw-SgLaWN8ls",
    "outputId": "7703320f-3881-4b74-8e6b-02764a96b8b2"
   },
   "outputs": [
    {
     "data": {
      "text/plain": [
       "20727"
      ]
     },
     "execution_count": 57,
     "metadata": {
      "tags": []
     },
     "output_type": "execute_result"
    }
   ],
   "source": [
    "len(all_data)"
   ]
  },
  {
   "cell_type": "code",
   "execution_count": 58,
   "metadata": {
    "colab": {},
    "colab_type": "code",
    "id": "_2W_P2SBHK_Z"
   },
   "outputs": [],
   "source": [
    "all_data, label_list = merge_data_by_category(all_data, target_merge={'c22':'c22', 'c57':'c22', 'c55':'c22',\n",
    "                                                                      'c11':'c22','c33':'c22','c10':'c22','c34':'c22', # c22: nội khoa\n",
    "                                                                      'c5':'c5','c3':'c5','c21':'c21','c19':'c21','c4':'c21'}) #c5: viêm gan; c21: sản phụ khoa\n",
    "all_data, label_list = drop_category(all_data, drop_target=['c20','c17','c73'])\n",
    "all_data, label_list = redefine_data(all_data, threshold=50)\n"
   ]
  },
  {
   "cell_type": "code",
   "execution_count": null,
   "metadata": {
    "colab": {},
    "colab_type": "code",
    "id": "6_5ukJXeoWhL"
   },
   "outputs": [],
   "source": [
    "# all_data, label_list = merge_data_by_category(all_data, target_merge={'c35':'c35', 'c34':'c35', 'c21':'c35', 'c31':'c35' , \n",
    "#                                                                       'c55':'c35','c25':'c35','c10':'c22','c34':'c22',\n",
    "#                                                                       'c5':'c5','c3':'c5','c21':'c21','c19':'c21','c4':'c21'})\n",
    "# all_data, label_list = drop_category(all_data, drop_target=['c20','c17','c73'])\n",
    "# all_data, label_list = redefine_data(all_data, threshold=50)\n"
   ]
  },
  {
   "cell_type": "code",
   "execution_count": 59,
   "metadata": {
    "colab": {
     "base_uri": "https://localhost:8080/",
     "height": 35
    },
    "colab_type": "code",
    "id": "GcPm-rD1h2QA",
    "outputId": "45850ec4-ffe3-4914-92d7-047548b3711a"
   },
   "outputs": [
    {
     "data": {
      "text/plain": [
       "19773"
      ]
     },
     "execution_count": 59,
     "metadata": {
      "tags": []
     },
     "output_type": "execute_result"
    }
   ],
   "source": [
    "len(all_data)"
   ]
  },
  {
   "cell_type": "code",
   "execution_count": 60,
   "metadata": {
    "colab": {
     "base_uri": "https://localhost:8080/",
     "height": 73
    },
    "colab_type": "code",
    "id": "MXVlYYPxIiYv",
    "outputId": "cfc99529-6b2c-49b4-93db-fed3943a7e10"
   },
   "outputs": [
    {
     "data": {
      "text/plain": [
       "('tư vấn tiêm vacxin dại chào bác sĩ em tiêm vacxin verorab liều đầu tiên mũi lý do em bị mèo cào chân vet thương dài có chảy máu liều tiếp theo ngày sau rơi chủ nhật em có công việc gấp phải về quê em dời ngày tiêm hôm sau là thứ duoc có ảnh hưởng quá trình điều trị tác dụng kháng sinh có mất hieu',\n",
       " 'c76')"
      ]
     },
     "execution_count": 60,
     "metadata": {
      "tags": []
     },
     "output_type": "execute_result"
    }
   ],
   "source": [
    "all_data[-1]"
   ]
  },
  {
   "cell_type": "code",
   "execution_count": 61,
   "metadata": {
    "colab": {
     "base_uri": "https://localhost:8080/",
     "height": 35
    },
    "colab_type": "code",
    "id": "TjdhU9WPHSqV",
    "outputId": "7a858819-ebbf-4641-9291-ce4aede637e1"
   },
   "outputs": [
    {
     "data": {
      "text/plain": [
       "21"
      ]
     },
     "execution_count": 61,
     "metadata": {
      "tags": []
     },
     "output_type": "execute_result"
    }
   ],
   "source": [
    "len(label_list)"
   ]
  },
  {
   "cell_type": "code",
   "execution_count": 62,
   "metadata": {
    "colab": {
     "base_uri": "https://localhost:8080/",
     "height": 266
    },
    "colab_type": "code",
    "id": "zIbiTOVQQBxI",
    "outputId": "25b7b95c-e757-420e-c0eb-e727d81d18b8"
   },
   "outputs": [
    {
     "data": {
      "image/png": "[encoded data removed]",
      "text/plain": [
       "<Figure size 432x288 with 1 Axes>"
      ]
     },
     "metadata": {
      "needs_background": "light",
      "tags": []
     },
     "output_type": "display_data"
    }
   ],
   "source": [
    "list_category = [x[1] for x in all_data]\n",
    "plt.hist(list_category)\n",
    "plt.show()"
   ]
  },
  {
   "cell_type": "code",
   "execution_count": 63,
   "metadata": {
    "colab": {
     "base_uri": "https://localhost:8080/",
     "height": 73
    },
    "colab_type": "code",
    "id": "9MKHXcXCkjQl",
    "outputId": "991b1520-4780-46b6-8aa6-c82ae5f9ef3b"
   },
   "outputs": [
    {
     "name": "stdout",
     "output_type": "stream",
     "text": [
      "('viêm gan b chào bác sĩ em làm xét nghiệm hbsag là coi hbsab định lượng u l kết quả dương tính biết em có phải thực hiện điều trị uống thuốc em cảm ơn', 'c5')\n",
      "('tư vấn tiêm vacxin dại chào bác sĩ em tiêm vacxin verorab liều đầu tiên mũi lý do em bị mèo cào chân vet thương dài có chảy máu liều tiếp theo ngày sau rơi chủ nhật em có công việc gấp phải về quê em dời ngày tiêm hôm sau là thứ duoc có ảnh hưởng quá trình điều trị tác dụng kháng sinh có mất hieu', 'c76')\n"
     ]
    }
   ],
   "source": [
    "print(all_data[0])\n",
    "print(all_data[-1])"
   ]
  },
  {
   "cell_type": "markdown",
   "metadata": {
    "colab_type": "text",
    "id": "EaIvf8PKkkjX"
   },
   "source": [
    "## Train/dev split\n",
    "\n",
    "The train set has a very good distribution between each class. I get the ratio between train and dev set of 90 - 10."
   ]
  },
  {
   "cell_type": "code",
   "execution_count": 65,
   "metadata": {
    "colab": {},
    "colab_type": "code",
    "id": "w5oiMiRekm-h"
   },
   "outputs": [],
   "source": [
    "from sklearn.model_selection import train_test_split\n",
    "\n",
    "texts, labels = zip(*all_data)\n",
    "label_list = list(set(labels))\n",
    "train_texts, valid_texts, train_labels, valid_labels = train_test_split(texts, labels, test_size=0.2, random_state=0,stratify=labels)"
   ]
  },
  {
   "cell_type": "code",
   "execution_count": 66,
   "metadata": {
    "colab": {
     "base_uri": "https://localhost:8080/",
     "height": 53
    },
    "colab_type": "code",
    "id": "Ehxh1xrYxd5b",
    "outputId": "fe49fd4f-d94a-4302-8cc7-fd663b4152b7"
   },
   "outputs": [
    {
     "data": {
      "application/vnd.google.colaboratory.intrinsic+json": {
       "type": "string"
      },
      "text/plain": [
       "'tư vấn kết quả xét nghiệm pcr lậu chlamydia chào bác sĩ em là nam tuổi đầu tháng em có quan hệ tình dục an toàn đầu tháng em có làm xét nghiệm pcr lậu chlamydia bệnh viện medlatec kết quả sau âm tính chlamydia trachomatis âm tính nesseria gonorrhoeae bác sĩ tư vấn em kết quả em xin cảm ơn'"
      ]
     },
     "execution_count": 66,
     "metadata": {
      "tags": []
     },
     "output_type": "execute_result"
    }
   ],
   "source": [
    "train_texts[0]"
   ]
  },
  {
   "cell_type": "markdown",
   "metadata": {
    "colab_type": "text",
    "id": "BnuNJXMVkopB"
   },
   "source": [
    "## Preparing dataset\n",
    "\n",
    "After received preprocessed data, I build a vocabulary by Tokenizer from Keras.\n",
    "Followed by convert sentence to tensor format and pad sequences with the same length."
   ]
  },
  {
   "cell_type": "code",
   "execution_count": 67,
   "metadata": {
    "colab": {},
    "colab_type": "code",
    "id": "dqKNU_wYlvUz"
   },
   "outputs": [],
   "source": [
    "import tensorflow as tf\n",
    "import numpy as np\n",
    "from tensorflow.keras.preprocessing.text import Tokenizer\n",
    "\n",
    "RANDOM_SEED=0\n",
    "tf.random.set_seed(RANDOM_SEED)\n",
    "np.random.seed(RANDOM_SEED)\n",
    "\n",
    "vocab_size = 15000\n",
    "\n",
    "tokenizer = Tokenizer(num_words=vocab_size,filters='')\n",
    "tokenizer.fit_on_texts(train_texts)"
   ]
  },
  {
   "cell_type": "code",
   "execution_count": 68,
   "metadata": {
    "colab": {
     "base_uri": "https://localhost:8080/",
     "height": 35
    },
    "colab_type": "code",
    "id": "usguq-OAaDe7",
    "outputId": "4ed3ed9a-f2d5-4b2e-eb8a-3cc2a56a346e"
   },
   "outputs": [
    {
     "data": {
      "text/plain": [
       "11208"
      ]
     },
     "execution_count": 68,
     "metadata": {
      "tags": []
     },
     "output_type": "execute_result"
    }
   ],
   "source": [
    "vocab = tokenizer.word_index\n",
    "len(vocab)"
   ]
  },
  {
   "cell_type": "code",
   "execution_count": 69,
   "metadata": {
    "colab": {
     "base_uri": "https://localhost:8080/",
     "height": 53
    },
    "colab_type": "code",
    "id": "V6sGR0zdmiRg",
    "outputId": "8148b113-d8c8-47ba-c770-cae0a1937d09"
   },
   "outputs": [
    {
     "name": "stdout",
     "output_type": "stream",
     "text": [
      "11\n",
      "3641\n"
     ]
    }
   ],
   "source": [
    "MIN_LENGTH = len(min(train_texts, key=len))\n",
    "print(MIN_LENGTH)\n",
    "MAX_LENGTH = len(max(train_texts, key=len))\n",
    "print(MAX_LENGTH)"
   ]
  },
  {
   "cell_type": "markdown",
   "metadata": {
    "colab_type": "text",
    "id": "aivj5Q5Al23v"
   },
   "source": [
    "### Converting data to tensors\n",
    "\n",
    "Convert the sample sequences into tensors."
   ]
  },
  {
   "cell_type": "code",
   "execution_count": 70,
   "metadata": {
    "colab": {},
    "colab_type": "code",
    "id": "5ksXLtdGl5G9"
   },
   "outputs": [],
   "source": [
    "X_train = tokenizer.texts_to_sequences(train_texts)\n",
    "X_valid = tokenizer.texts_to_sequences(valid_texts)"
   ]
  },
  {
   "cell_type": "markdown",
   "metadata": {
    "colab_type": "text",
    "id": "LLEM7qaiqqJY"
   },
   "source": [
    "### Padding the sequence"
   ]
  },
  {
   "cell_type": "code",
   "execution_count": 71,
   "metadata": {
    "colab": {},
    "colab_type": "code",
    "id": "SQC78vyGquTw"
   },
   "outputs": [],
   "source": [
    "from tensorflow.keras.preprocessing.sequence import pad_sequences\n",
    "def one_hot_label(vector, index):\n",
    "    vector[index] = 1\n",
    "    return vector\n",
    "\n",
    "MAXLEN=512\n",
    "label_index = dict(enumerate(label_list))\n",
    "label_index = dict([(value, key) for key, value in label_index.items()]) \n",
    "\n",
    "X_train_pad = pad_sequences(X_train, maxlen=MAXLEN, padding='pre')\n",
    "X_valid_pad = pad_sequences(X_valid, maxlen=MAXLEN, padding='pre')\n",
    "y_train = np.array([one_hot_label(np.zeros((len(label_index))), label_index[lb]) for lb in train_labels])\n",
    "y_valid = np.array([one_hot_label(np.zeros((len(label_index))), label_index[lb]) for lb in valid_labels])"
   ]
  },
  {
   "cell_type": "markdown",
   "metadata": {
    "colab_type": "text",
    "id": "ABsQGtiyRsQS"
   },
   "source": [
    "## Label analysis"
   ]
  },
  {
   "cell_type": "code",
   "execution_count": 72,
   "metadata": {
    "colab": {
     "base_uri": "https://localhost:8080/",
     "height": 377
    },
    "colab_type": "code",
    "id": "OOzPf_vIcLw5",
    "outputId": "839ec87f-2cf1-43a8-927b-e767b8f9ce70"
   },
   "outputs": [
    {
     "data": {
      "text/plain": [
       "[('máu', 39),\n",
       " ('kết quả', 34),\n",
       " ('l', 24),\n",
       " ('sau', 20),\n",
       " ('chỉ số', 18),\n",
       " ('ngày', 15),\n",
       " ('sỹ', 15),\n",
       " ('chi tiết', 15),\n",
       " ('cholesterol', 15),\n",
       " ('mmol', 14),\n",
       " ('architect', 11),\n",
       " ('bé', 10),\n",
       " ('cobas', 10),\n",
       " ('bạch cầu', 9),\n",
       " ('thể tích', 6),\n",
       " ('âm tính', 6),\n",
       " ('muối', 6),\n",
       " ('bệnh', 5),\n",
       " ('thuốc', 5),\n",
       " ('ldl', 5)]"
      ]
     },
     "execution_count": 72,
     "metadata": {
      "tags": []
     },
     "output_type": "execute_result"
    }
   ],
   "source": [
    "def get_documents_by_label(texts, labels, chosen_label):\n",
    "    chosen_texts=[]\n",
    "    for text, label in zip(texts, labels):\n",
    "        if label == chosen_label:\n",
    "            chosen_texts.append(text)\n",
    "    return chosen_texts\n",
    "\n",
    "def analyse_words_in_texts(texts, tags):\n",
    "    word_dict={}\n",
    "    for text in texts:\n",
    "        tagged_sent = pos_tag(text)\n",
    "        for tuple_word in tagged_sent:\n",
    "            if tuple_word[1] in tags :\n",
    "                if tuple_word[0] not in word_dict:\n",
    "                    word_dict[tuple_word[0]] = 1\n",
    "                else:\n",
    "                    word_dict[tuple_word[0]] += 1\n",
    "    return sorted(word_dict.items(), key=lambda item: item[1], reverse=True)\n",
    "\n",
    "texts = get_documents_by_label(train_texts, train_labels, 'c29')\n",
    "word_dict = analyse_words_in_texts(texts, ['N', 'Np'])\n",
    "word_dict[:20]"
   ]
  },
  {
   "cell_type": "markdown",
   "metadata": {
    "colab_type": "text",
    "id": "dRniKaN_mOrd"
   },
   "source": [
    "# II. Building Model\n",
    "\n",
    "Our network contains:\n",
    "\n",
    "- A LSTM model\n",
    "- A Transformer model\n",
    "\n"
   ]
  },
  {
   "cell_type": "code",
   "execution_count": 73,
   "metadata": {
    "colab": {},
    "colab_type": "code",
    "id": "WKp6-meFTsHc"
   },
   "outputs": [],
   "source": [
    "from tensorflow.keras.layers import Dense, SimpleRNN, LSTM, GRU, Conv1D, InputLayer, Bidirectional, TimeDistributed, Embedding, Activation, Dropout, Flatten\n",
    "from tensorflow.keras.optimizers import Adam\n",
    "from tensorflow.keras import layers\n",
    "from sklearn.utils import class_weight\n",
    "import numpy as np\n",
    "\n",
    "EMB_DIM = 300\n",
    "class_weights = dict(enumerate(class_weight.compute_class_weight('balanced',\n",
    "                                                 np.unique(train_labels),\n",
    "                                                 train_labels)))"
   ]
  },
  {
   "cell_type": "code",
   "execution_count": 74,
   "metadata": {
    "colab": {},
    "colab_type": "code",
    "id": "fvDKPz-6xVad"
   },
   "outputs": [],
   "source": [
    "from sklearn.metrics import confusion_matrix\n",
    "from sklearn.metrics import classification_report\n",
    "\n",
    "def model_report(model, X_test_pad, y_test):\n",
    "    y_pred = np.argmax(model.predict(X_test_pad),axis=1)\n",
    "    y_test = np.argmax(y_test,axis=1)\n",
    "\n",
    "    confusion = confusion_matrix(y_test, y_pred)\n",
    "\n",
    "    plt.figure(figsize=(12,12))\n",
    "    ax= plt.subplot()\n",
    "    sns.heatmap(confusion, annot=True, ax = ax, fmt='g'); #annot=True to annotate cells\n",
    "\n",
    "    # labels, title and ticks\n",
    "    ax.set_xlabel('Predicted labels');ax.set_ylabel('True labels'); \n",
    "    ax.set_title('Confusion Matrix'); \n",
    "    ax.xaxis.set_ticklabels(label_list); ax.yaxis.set_ticklabels(label_list);\n",
    "    print(classification_report(y_test, y_pred,target_names=label_list))\n",
    "    pass\n",
    "\n",
    "def plotting_acc_loss(history):\n",
    "    plt.plot(history.history['acc'])\n",
    "    plt.plot(history.history['val_acc'])\n",
    "    plt.title('model accuracy')\n",
    "    plt.ylabel('accuracy')\n",
    "    plt.xlabel('epoch')\n",
    "    plt.legend(['train', 'test'], loc='upper left')\n",
    "    plt.show()\n",
    "    # summarize history for loss\n",
    "    plt.plot(history.history['loss'])\n",
    "    plt.plot(history.history['val_loss'])\n",
    "    plt.title('model loss')\n",
    "    plt.ylabel('loss')\n",
    "    plt.xlabel('epoch')\n",
    "    plt.legend(['train', 'test'], loc='upper left')\n",
    "    plt.show()\n",
    "    pass"
   ]
  },
  {
   "cell_type": "markdown",
   "metadata": {
    "colab_type": "text",
    "id": "NQ2qWBMVvTtU"
   },
   "source": [
    "## Tf-Idf Analysis"
   ]
  },
  {
   "cell_type": "code",
   "execution_count": 75,
   "metadata": {
    "colab": {},
    "colab_type": "code",
    "id": "0j4QZQILvUyB"
   },
   "outputs": [],
   "source": [
    "from sklearn.feature_extraction.text import TfidfVectorizer\n",
    "\n",
    "vectorizer = TfidfVectorizer(sublinear_tf=True, max_df=0.5, ngram_range=(1,2))\n",
    "X_train = vectorizer.fit_transform(train_texts)\n",
    "X_valid = vectorizer.transform(valid_texts)\n",
    "\n",
    "y_train = np.array([one_hot_label(np.zeros((len(label_index))), label_index[lb]) for lb in train_labels])\n",
    "y_valid = np.array([one_hot_label(np.zeros((len(label_index))), label_index[lb]) for lb in valid_labels])"
   ]
  },
  {
   "cell_type": "code",
   "execution_count": 76,
   "metadata": {
    "colab": {
     "base_uri": "https://localhost:8080/",
     "height": 53
    },
    "colab_type": "code",
    "id": "KgzgWN6D-DzA",
    "outputId": "1c0dab9a-7519-417c-cef4-85b01fc2b4c4"
   },
   "outputs": [
    {
     "data": {
      "text/plain": [
       "<1x175152 sparse matrix of type '<class 'numpy.float64'>'\n",
       "\twith 108 stored elements in Compressed Sparse Row format>"
      ]
     },
     "execution_count": 76,
     "metadata": {
      "tags": []
     },
     "output_type": "execute_result"
    }
   ],
   "source": [
    "X_valid[0]"
   ]
  },
  {
   "cell_type": "code",
   "execution_count": 77,
   "metadata": {
    "colab": {
     "base_uri": "https://localhost:8080/",
     "height": 89
    },
    "colab_type": "code",
    "id": "Y5TEOsAb3DzT",
    "outputId": "0ca553cc-39f4-481e-ab49-51b3f6dc0600"
   },
   "outputs": [
    {
     "data": {
      "text/plain": [
       "LogisticRegression(C=1.0, class_weight=None, dual=False, fit_intercept=True,\n",
       "          intercept_scaling=1, max_iter=100, multi_class='ovr',\n",
       "          n_jobs=None, penalty='l2', random_state=None, solver='lbfgs',\n",
       "          tol=0.0001, verbose=0, warm_start=False)"
      ]
     },
     "execution_count": 77,
     "metadata": {
      "tags": []
     },
     "output_type": "execute_result"
    }
   ],
   "source": [
    "from sklearn.feature_extraction.text import TfidfTransformer\n",
    "from sklearn.naive_bayes import MultinomialNB\n",
    "from sklearn.linear_model import LogisticRegression\n",
    "from sklearn.ensemble import RandomForestClassifier\n",
    "from sklearn.svm import LinearSVC, LinearSVR\n",
    "from sklearn.model_selection import cross_val_score\n",
    "import pandas as pd\n",
    "\n",
    "clf = LogisticRegression(solver='lbfgs', multi_class='ovr')\n",
    "clf.fit(X_train, train_labels)"
   ]
  },
  {
   "cell_type": "code",
   "execution_count": 78,
   "metadata": {
    "colab": {
     "base_uri": "https://localhost:8080/",
     "height": 35
    },
    "colab_type": "code",
    "id": "E0FY1M_T4qh1",
    "outputId": "0c334821-ea34-4070-a924-32a0584bd118"
   },
   "outputs": [
    {
     "name": "stdout",
     "output_type": "stream",
     "text": [
      "# Test accuracy: 0.7173198482932996\n"
     ]
    }
   ],
   "source": [
    "from sklearn import metrics\n",
    "\n",
    "valid_preds = clf.predict(X_valid)\n",
    "accuracy = metrics.accuracy_score(valid_labels, valid_preds)\n",
    "print(\"# Test accuracy: {}\".format(accuracy))"
   ]
  },
  {
   "cell_type": "code",
   "execution_count": 79,
   "metadata": {
    "colab": {
     "base_uri": "https://localhost:8080/",
     "height": 35
    },
    "colab_type": "code",
    "id": "0x-F9BPW42vO",
    "outputId": "ca9d96d4-15be-4d68-8e7e-574bbf514dab"
   },
   "outputs": [
    {
     "name": "stdout",
     "output_type": "stream",
     "text": [
      "# Test accuracy: 0.7426042983565108\n"
     ]
    }
   ],
   "source": [
    "model = LinearSVC()\n",
    "model.fit(X_train, train_labels)\n",
    "\n",
    "valid_preds = model.predict(X_valid)\n",
    "accuracy = metrics.accuracy_score(valid_labels, valid_preds)\n",
    "print(\"# Test accuracy: {}\".format(accuracy))"
   ]
  },
  {
   "cell_type": "code",
   "execution_count": 80,
   "metadata": {
    "colab": {
     "base_uri": "https://localhost:8080/",
     "height": 1000
    },
    "colab_type": "code",
    "id": "cnW3RldSF8no",
    "outputId": "cc8aa1b2-719c-4f9f-b6d9-a199ecf6550a"
   },
   "outputs": [
    {
     "name": "stderr",
     "output_type": "stream",
     "text": [
      "/usr/local/lib/python3.6/dist-packages/sklearn/metrics/classification.py:1143: UndefinedMetricWarning: Precision and F-score are ill-defined and being set to 0.0 in labels with no predicted samples.\n",
      "  'precision', 'predicted', average, warn_for)\n"
     ]
    },
    {
     "name": "stdout",
     "output_type": "stream",
     "text": [
      "              precision    recall  f1-score   support\n",
      "\n",
      "         c76       0.76      0.53      0.62        47\n",
      "          c5       0.72      0.67      0.69       105\n",
      "          c6       0.85      0.96      0.90        70\n",
      "         c25       0.56      0.40      0.47        25\n",
      "         c13       0.84      0.93      0.88      1664\n",
      "         c29       0.61      0.65      0.63       612\n",
      "         c23       0.67      0.43      0.52        14\n",
      "          c9       0.67      0.17      0.27        12\n",
      "         c30       0.62      0.73      0.67        74\n",
      "         c27       0.73      0.59      0.65       165\n",
      "         c35       0.61      0.54      0.58        94\n",
      "         c15       0.00      0.00      0.00        10\n",
      "         c18       0.00      0.00      0.00        16\n",
      "         c32       0.57      0.18      0.28        22\n",
      "         c21       0.71      0.73      0.72        44\n",
      "          c7       0.65      0.53      0.58       274\n",
      "         c24       0.57      0.36      0.44       129\n",
      "         c14       0.00      0.00      0.00        17\n",
      "         c22       0.72      0.81      0.76       271\n",
      "         c26       0.30      0.32      0.31        19\n",
      "         c61       0.67      0.55      0.60       271\n",
      "\n",
      "   micro avg       0.74      0.74      0.74      3955\n",
      "   macro avg       0.56      0.48      0.50      3955\n",
      "weighted avg       0.73      0.74      0.73      3955\n",
      "\n"
     ]
    },
    {
     "data": {
      "image/png": "[encoded data removed]",
      "text/plain": [
       "<Figure size 864x864 with 2 Axes>"
      ]
     },
     "metadata": {
      "needs_background": "light",
      "tags": []
     },
     "output_type": "display_data"
    }
   ],
   "source": [
    "confusion = confusion_matrix(valid_labels, valid_preds)\n",
    "\n",
    "plt.figure(figsize=(12,12))\n",
    "ax= plt.subplot()\n",
    "sns.heatmap(confusion, annot=True, ax = ax, fmt='g'); #annot=True to annotate cells\n",
    "\n",
    "# labels, title and ticks\n",
    "ax.set_xlabel('Predicted labels');ax.set_ylabel('True labels'); \n",
    "ax.set_title('Confusion Matrix'); \n",
    "ax.xaxis.set_ticklabels(label_list); ax.yaxis.set_ticklabels(label_list);\n",
    "print(classification_report(valid_labels, valid_preds,target_names=label_list))"
   ]
  },
  {
   "cell_type": "code",
   "execution_count": 81,
   "metadata": {
    "colab": {
     "base_uri": "https://localhost:8080/",
     "height": 172
    },
    "colab_type": "code",
    "id": "30Gin8j-Xtq_",
    "outputId": "826cf34c-f4fa-49be-fd3f-1b60a6982fbd"
   },
   "outputs": [
    {
     "ename": "NameError",
     "evalue": "ignored",
     "output_type": "error",
     "traceback": [
      "\u001b[0;31m---------------------------------------------------------------------------\u001b[0m",
      "\u001b[0;31mNameError\u001b[0m                                 Traceback (most recent call last)",
      "\u001b[0;32m<ipython-input-81-9a40b379906c>\u001b[0m in \u001b[0;36m<module>\u001b[0;34m()\u001b[0m\n\u001b[0;32m----> 1\u001b[0;31m \u001b[0mm\u001b[0m\u001b[0;34m\u001b[0m\u001b[0;34m\u001b[0m\u001b[0m\n\u001b[0m",
      "\u001b[0;31mNameError\u001b[0m: name 'm' is not defined"
     ]
    }
   ],
   "source": [
    "m"
   ]
  },
  {
   "cell_type": "markdown",
   "metadata": {
    "colab_type": "text",
    "id": "XqPyrMcARmzM"
   },
   "source": [
    "## LSTM Model"
   ]
  },
  {
   "cell_type": "code",
   "execution_count": null,
   "metadata": {
    "colab": {},
    "colab_type": "code",
    "id": "Ln5Su4fg9lZ2"
   },
   "outputs": [],
   "source": [
    "lstm_model = tf.keras.Sequential()\n",
    "lstm_model.add(InputLayer(input_shape=(MAXLEN, )))\n",
    "lstm_model.add(Embedding(vocab_size, EMB_DIM))\n",
    "lstm_model.add(Conv1D(filters=EMB_DIM,\n",
    "               kernel_size=8,\n",
    "               strides=1, padding='same',\n",
    "               activation='relu'))\n",
    "lstm_model.add(LSTM(512))\n",
    "# lstm_model.add(Flatten())\n",
    "lstm_model.add(Dense(len(label_list), activation='softmax'))\n",
    "\n",
    "lstm_model.compile(optimizer=Adam(lr=1e-3),\n",
    "              loss='categorical_crossentropy',\n",
    "              metrics=['acc'])\n",
    "\n",
    "history = lstm_model.fit(X_train_pad, y_train,\n",
    "          epochs=5,\n",
    "          batch_size=32,\n",
    "          validation_data=(X_valid_pad, y_valid),\n",
    "         )"
   ]
  },
  {
   "cell_type": "code",
   "execution_count": null,
   "metadata": {
    "colab": {},
    "colab_type": "code",
    "id": "bgDfk_yjs5J2"
   },
   "outputs": [],
   "source": [
    "lstm_model = tf.keras.Sequential()\n",
    "lstm_model.add(InputLayer(input_shape=(MAXLEN, )))\n",
    "lstm_model.add(Embedding(vocab_size, EMB_DIM))\n",
    "lstm_model.add(LSTM(512))\n",
    "lstm_model.add(Dense(len(label_list), activation='softmax'))\n",
    "\n",
    "lstm_model.compile(optimizer=Adam(lr=1e-3),\n",
    "              loss='categorical_crossentropy',\n",
    "              metrics=['acc'])\n",
    "\n",
    "history = lstm_model.fit(X_train_pad, y_train,\n",
    "          epochs=5,\n",
    "          batch_size=32,\n",
    "          validation_data=(X_valid_pad, y_valid),\n",
    "         )"
   ]
  },
  {
   "cell_type": "code",
   "execution_count": null,
   "metadata": {
    "colab": {},
    "colab_type": "code",
    "id": "4ZQjKXF3OvrF"
   },
   "outputs": [],
   "source": [
    "plotting_acc_loss(history)"
   ]
  },
  {
   "cell_type": "markdown",
   "metadata": {
    "colab_type": "text",
    "id": "sRbc9EDs3clM"
   },
   "source": [
    "## Transformer Model"
   ]
  },
  {
   "cell_type": "code",
   "execution_count": null,
   "metadata": {
    "colab": {},
    "colab_type": "code",
    "id": "tCCOWl8QFGVd"
   },
   "outputs": [],
   "source": [
    "import tensorflow as tf\n",
    "from tensorflow import keras\n",
    "from tensorflow.keras import layers\n",
    "\n",
    "class MultiHeadSelfAttention(layers.Layer):\n",
    "    def __init__(self, embed_dim, num_heads=8):\n",
    "        super(MultiHeadSelfAttention, self).__init__()\n",
    "        self.embed_dim = embed_dim\n",
    "        self.num_heads = num_heads\n",
    "        if embed_dim % num_heads != 0:\n",
    "            raise ValueError(\n",
    "                f\"embedding dimension = {embed_dim} should be divisible by number of heads = {num_heads}\"\n",
    "            )\n",
    "        self.projection_dim = embed_dim // num_heads\n",
    "        self.query_dense = layers.Dense(embed_dim)\n",
    "        self.key_dense = layers.Dense(embed_dim)\n",
    "        self.value_dense = layers.Dense(embed_dim)\n",
    "        self.combine_heads = layers.Dense(embed_dim)\n",
    "\n",
    "    def attention(self, query, key, value):\n",
    "        score = tf.matmul(query, key, transpose_b=True)\n",
    "        dim_key = tf.cast(tf.shape(key)[-1], tf.float32)\n",
    "        scaled_score = score / tf.math.sqrt(dim_key)\n",
    "        weights = tf.nn.softmax(scaled_score, axis=-1)\n",
    "        output = tf.matmul(weights, value)\n",
    "        return output, weights\n",
    "\n",
    "    def separate_heads(self, x, batch_size):\n",
    "        x = tf.reshape(x, (batch_size, -1, self.num_heads, self.projection_dim))\n",
    "        return tf.transpose(x, perm=[0, 2, 1, 3])\n",
    "\n",
    "    def call(self, inputs):\n",
    "        # x.shape = [batch_size, seq_len, embedding_dim]\n",
    "        batch_size = tf.shape(inputs)[0]\n",
    "        query = self.query_dense(inputs)  # (batch_size, seq_len, embed_dim)\n",
    "        key = self.key_dense(inputs)  # (batch_size, seq_len, embed_dim)\n",
    "        value = self.value_dense(inputs)  # (batch_size, seq_len, embed_dim)\n",
    "        query = self.separate_heads(\n",
    "            query, batch_size\n",
    "        )  # (batch_size, num_heads, seq_len, projection_dim)\n",
    "        key = self.separate_heads(\n",
    "            key, batch_size\n",
    "        )  # (batch_size, num_heads, seq_len, projection_dim)\n",
    "        value = self.separate_heads(\n",
    "            value, batch_size\n",
    "        )  # (batch_size, num_heads, seq_len, projection_dim)\n",
    "        attention, weights = self.attention(query, key, value)\n",
    "        attention = tf.transpose(\n",
    "            attention, perm=[0, 2, 1, 3]\n",
    "        )  # (batch_size, seq_len, num_heads, projection_dim)\n",
    "        concat_attention = tf.reshape(\n",
    "            attention, (batch_size, -1, self.embed_dim)\n",
    "        )  # (batch_size, seq_len, embed_dim)\n",
    "        output = self.combine_heads(\n",
    "            concat_attention\n",
    "        )  # (batch_size, seq_len, embed_dim)\n",
    "        return output\n",
    "    \n",
    "\n",
    "class TransformerBlock(layers.Layer):\n",
    "    def __init__(self, embed_dim, num_heads, ff_dim, rate=0.1):\n",
    "        super(TransformerBlock, self).__init__()\n",
    "        self.att = MultiHeadSelfAttention(embed_dim, num_heads)\n",
    "        self.ffn = keras.Sequential(\n",
    "            [layers.Dense(ff_dim, activation=\"relu\"), layers.Dense(embed_dim),]\n",
    "        )\n",
    "        self.layernorm1 = layers.LayerNormalization(epsilon=1e-6)\n",
    "        self.layernorm2 = layers.LayerNormalization(epsilon=1e-6)\n",
    "        self.dropout1 = layers.Dropout(rate)\n",
    "        self.dropout2 = layers.Dropout(rate)\n",
    "\n",
    "    def call(self, inputs, training):\n",
    "        attn_output = self.att(inputs)\n",
    "        attn_output = self.dropout1(attn_output, training=training)\n",
    "        out1 = self.layernorm1(inputs + attn_output)\n",
    "        ffn_output = self.ffn(out1)\n",
    "        ffn_output = self.dropout2(ffn_output, training=training)\n",
    "        return self.layernorm2(out1 + ffn_output)\n",
    "\n",
    "    \n",
    "class TokenAndPositionEmbedding(layers.Layer):\n",
    "    def __init__(self, maxlen, vocab_size, embed_dim, pretrained_emb_layer):\n",
    "        super(TokenAndPositionEmbedding, self).__init__()\n",
    "        if pretrained_emb_layer is None:\n",
    "          self.token_emb = layers.Embedding(input_dim=vocab_size, output_dim=embed_dim)\n",
    "        else:\n",
    "          self.token_emb = pretrained_emb_layer\n",
    "        self.pos_emb = layers.Embedding(input_dim=maxlen, output_dim=embed_dim)\n",
    "\n",
    "    def call(self, x):\n",
    "        maxlen = tf.shape(x)[-1]\n",
    "        positions = tf.range(start=0, limit=maxlen, delta=1)\n",
    "        positions = self.pos_emb(positions)\n",
    "        x = self.token_emb(x)\n",
    "        return x + positions\n"
   ]
  },
  {
   "cell_type": "code",
   "execution_count": null,
   "metadata": {
    "colab": {},
    "colab_type": "code",
    "id": "3qh20YFTFJw7"
   },
   "outputs": [],
   "source": [
    "num_heads = 8  # Number of attention heads\n",
    "ff_dim = 64  # Hidden layer size in feed forward network inside transformer\n",
    "EMB_DIM=256\n",
    "inputs = layers.Input(shape=(MAXLEN,))\n",
    "embedding_layer = TokenAndPositionEmbedding(MAXLEN, vocab_size, EMB_DIM, None)\n",
    "x = embedding_layer(inputs)\n",
    "transformer_block = TransformerBlock(EMB_DIM, num_heads, ff_dim)\n",
    "x = transformer_block(x)\n",
    "x = layers.GlobalAveragePooling1D()(x)\n",
    "outputs = layers.Dense(len(label_list), activation=\"softmax\")(x)\n",
    "\n",
    "transformer_model = keras.Model(inputs=inputs, outputs=outputs)\n",
    "\n",
    "transformer_model.compile(optimizer='adam',\n",
    "              loss='categorical_crossentropy',\n",
    "              metrics=['acc'])\n",
    "\n",
    "history = transformer_model.fit(X_train_pad, y_train,\n",
    "          epochs=3,\n",
    "          batch_size=32,\n",
    "          validation_data=(X_valid_pad, y_valid)\n",
    "         )\n"
   ]
  },
  {
   "cell_type": "code",
   "execution_count": null,
   "metadata": {
    "colab": {},
    "colab_type": "code",
    "id": "-WqzrVEJp6pD"
   },
   "outputs": [],
   "source": [
    "plotting_acc_loss(history)"
   ]
  },
  {
   "cell_type": "markdown",
   "metadata": {
    "colab_type": "text",
    "id": "rAZ_VjMfEcxM"
   },
   "source": [
    "# III. (Additional) Using pretrained embedding"
   ]
  },
  {
   "cell_type": "code",
   "execution_count": null,
   "metadata": {
    "colab": {},
    "colab_type": "code",
    "id": "g7xZYwoqFCvg"
   },
   "outputs": [],
   "source": [
    "# Uncomment this to run Additional section\n",
    "!wget https://dl.fbaipublicfiles.com/fasttext/vectors-crawl/cc.vi.300.vec.gz\n",
    "!gunzip cc.vi.300.vec.gz"
   ]
  },
  {
   "cell_type": "code",
   "execution_count": 82,
   "metadata": {
    "colab": {
     "base_uri": "https://localhost:8080/",
     "height": 35
    },
    "colab_type": "code",
    "id": "B2RQ4I0AGp4E",
    "outputId": "f1cd7f77-d860-403f-d29f-0f93682cfdd7"
   },
   "outputs": [
    {
     "name": "stdout",
     "output_type": "stream",
     "text": [
      "Found 2000000 word vectors.\n"
     ]
    }
   ],
   "source": [
    "import os\n",
    "\n",
    "PRETRAINED_EMBEDDING_DIM=300\n",
    "embeddings_index = {}\n",
    "with open('cc.vi.300.vec', \"rt\") as f:\n",
    "    f.readline()\n",
    "    for line in f:\n",
    "        values = line.split()\n",
    "        word = values[0]\n",
    "        coefs = np.asarray(values[1:], dtype='float32')\n",
    "        embeddings_index[word] = coefs\n",
    "\n",
    "print('Found %s word vectors.' % len(embeddings_index))"
   ]
  },
  {
   "cell_type": "code",
   "execution_count": 83,
   "metadata": {
    "colab": {
     "base_uri": "https://localhost:8080/",
     "height": 35
    },
    "colab_type": "code",
    "id": "l6fjB6Q7HhFY",
    "outputId": "fbe5d6da-a465-42a1-8a92-374b2501e985"
   },
   "outputs": [
    {
     "name": "stdout",
     "output_type": "stream",
     "text": [
      "Total oov from pretrained: 3032 8176\n"
     ]
    }
   ],
   "source": [
    "num_oov=0\n",
    "num_iov=0\n",
    "embedding_matrix = np.zeros((len(vocab.keys()) + 1, PRETRAINED_EMBEDDING_DIM))\n",
    "for word, i in vocab.items():\n",
    "    embedding_vector = embeddings_index.get(word)\n",
    "    if embedding_vector is not None:\n",
    "        # words not found in embedding index will be all-zeros.\n",
    "        embedding_matrix[i] = embedding_vector\n",
    "        num_iov+=1\n",
    "    else:\n",
    "        num_oov+=1\n",
    "print(\"Total oov from pretrained:\", num_oov, num_iov)"
   ]
  },
  {
   "cell_type": "code",
   "execution_count": 84,
   "metadata": {
    "colab": {},
    "colab_type": "code",
    "id": "kjzL6ehZtoXT"
   },
   "outputs": [],
   "source": [
    "from collections import defaultdict\n",
    "\n",
    "class MeanEmbeddingVectorizer(object):\n",
    "    def __init__(self, word2vec):\n",
    "        self.word2vec = word2vec\n",
    "        self.dim = 300\n",
    "            \n",
    "    def fit(self, X, y):\n",
    "        return self \n",
    "\n",
    "    def transform(self, X):\n",
    "        return np.array([\n",
    "            np.mean([self.word2vec[w] for w in words if w in self.word2vec] \n",
    "                    or [np.zeros(self.dim)], axis=0)\n",
    "            for words in X\n",
    "        ])\n",
    "\n",
    "    \n",
    "# and a tf-idf version of the same\n",
    "class TfidfEmbeddingVectorizer(object):\n",
    "    def __init__(self, word2vec):\n",
    "        self.word2vec = word2vec\n",
    "        self.word2weight = None\n",
    "        self.dim = 300\n",
    "        # if len(word2vec)>0:\n",
    "        #     self.dim=len(word2vec[next(iter(glove_small))])\n",
    "        # else:\n",
    "        #     self.dim=0\n",
    "        \n",
    "    def fit(self, X, y):\n",
    "        tfidf = TfidfVectorizer(analyzer=lambda x: x)\n",
    "        tfidf.fit(X)\n",
    "        # if a word was never seen - it must be at least as infrequent\n",
    "        # as any of the known words - so the default idf is the max of \n",
    "        # known idf's\n",
    "        max_idf = max(tfidf.idf_)\n",
    "        self.word2weight = defaultdict(\n",
    "            lambda: max_idf, \n",
    "            [(w, tfidf.idf_[i]) for w, i in tfidf.vocabulary_.items()])\n",
    "    \n",
    "        return self\n",
    "    \n",
    "    def transform(self, X):\n",
    "        return np.array([\n",
    "                np.mean([self.word2vec[w] * self.word2weight[w]\n",
    "                         for w in words if w in self.word2vec] or\n",
    "                        [np.zeros(self.dim)], axis=0)\n",
    "                for words in X\n",
    "            ])"
   ]
  },
  {
   "cell_type": "code",
   "execution_count": 85,
   "metadata": {
    "colab": {},
    "colab_type": "code",
    "id": "02JG2yeU8Xlw"
   },
   "outputs": [],
   "source": [
    "from sklearn.pipeline import Pipeline\n",
    "from sklearn.svm import SVC\n",
    "from sklearn.ensemble import ExtraTreesClassifier\n",
    "\n",
    "svc_tfidf = Pipeline([(\"tfidf_vectorizer\", TfidfVectorizer(analyzer=lambda x: x, sublinear_tf=True, max_df=0.5, ngram_range=(1,2))),\n",
    "                      (\"svm\", LinearSVC())])"
   ]
  },
  {
   "cell_type": "code",
   "execution_count": 86,
   "metadata": {
    "colab": {},
    "colab_type": "code",
    "id": "UyZp4kepxmia"
   },
   "outputs": [],
   "source": [
    "list_train_text = [np.array(text.split()) for text in train_texts]\n",
    "list_valid_text = [np.array(text.split()) for text in valid_texts]\n"
   ]
  },
  {
   "cell_type": "code",
   "execution_count": 87,
   "metadata": {
    "colab": {
     "base_uri": "https://localhost:8080/",
     "height": 35
    },
    "colab_type": "code",
    "id": "X_YbCEVLwBKx",
    "outputId": "05f70d14-c622-493f-df4f-dd6857587a3d"
   },
   "outputs": [
    {
     "name": "stdout",
     "output_type": "stream",
     "text": [
      "# Test accuracy: 0.722629582806574\n"
     ]
    }
   ],
   "source": [
    "svc_tfidf.fit(list_train_text, train_labels)\n",
    "\n",
    "valid_preds = svc_tfidf.predict(list_valid_text)\n",
    "accuracy = metrics.accuracy_score(valid_labels, valid_preds)\n",
    "print(\"# Test accuracy: {}\".format(accuracy))"
   ]
  },
  {
   "cell_type": "code",
   "execution_count": 90,
   "metadata": {
    "colab": {
     "base_uri": "https://localhost:8080/",
     "height": 1000
    },
    "colab_type": "code",
    "id": "7SJ50hsdRxR7",
    "outputId": "0bf35cee-f84d-45e6-bd87-ebfb5f3907b4"
   },
   "outputs": [
    {
     "name": "stderr",
     "output_type": "stream",
     "text": [
      "/usr/local/lib/python3.6/dist-packages/sklearn/metrics/classification.py:1143: UndefinedMetricWarning: Precision and F-score are ill-defined and being set to 0.0 in labels with no predicted samples.\n",
      "  'precision', 'predicted', average, warn_for)\n"
     ]
    },
    {
     "name": "stdout",
     "output_type": "stream",
     "text": [
      "              precision    recall  f1-score   support\n",
      "\n",
      "         c76       0.75      0.57      0.65        47\n",
      "          c5       0.67      0.69      0.68       105\n",
      "          c6       0.81      0.94      0.87        70\n",
      "         c25       0.39      0.28      0.33        25\n",
      "         c13       0.84      0.93      0.88      1664\n",
      "         c29       0.58      0.63      0.60       612\n",
      "         c23       0.67      0.43      0.52        14\n",
      "          c9       0.33      0.17      0.22        12\n",
      "         c30       0.60      0.66      0.63        74\n",
      "         c27       0.69      0.56      0.62       165\n",
      "         c35       0.65      0.53      0.58        94\n",
      "         c15       0.50      0.10      0.17        10\n",
      "         c18       0.00      0.00      0.00        16\n",
      "         c32       0.50      0.23      0.31        22\n",
      "         c21       0.66      0.61      0.64        44\n",
      "          c7       0.61      0.49      0.54       274\n",
      "         c24       0.52      0.35      0.42       129\n",
      "         c14       0.00      0.00      0.00        17\n",
      "         c22       0.70      0.73      0.72       271\n",
      "         c26       0.24      0.26      0.25        19\n",
      "         c61       0.63      0.52      0.57       271\n",
      "\n",
      "   micro avg       0.72      0.72      0.72      3955\n",
      "   macro avg       0.54      0.46      0.49      3955\n",
      "weighted avg       0.71      0.72      0.71      3955\n",
      "\n"
     ]
    },
    {
     "data": {
      "image/png": "[encoded data removed]",
      "text/plain": [
       "<Figure size 864x864 with 2 Axes>"
      ]
     },
     "metadata": {
      "needs_background": "light",
      "tags": []
     },
     "output_type": "display_data"
    }
   ],
   "source": [
    "confusion = confusion_matrix(valid_labels, valid_preds)\n",
    "\n",
    "plt.figure(figsize=(12,12))\n",
    "ax= plt.subplot()\n",
    "sns.heatmap(confusion, annot=True, ax = ax, fmt='g'); #annot=True to annotate cells\n",
    "\n",
    "# labels, title and ticks\n",
    "ax.set_xlabel('Predicted labels');ax.set_ylabel('True labels'); \n",
    "ax.set_title('Confusion Matrix'); \n",
    "ax.xaxis.set_ticklabels(label_list); ax.yaxis.set_ticklabels(label_list);\n",
    "print(classification_report(valid_labels, valid_preds,target_names=label_list))"
   ]
  },
  {
   "cell_type": "code",
   "execution_count": null,
   "metadata": {
    "colab": {},
    "colab_type": "code",
    "id": "THDPTrXo25vf"
   },
   "outputs": [],
   "source": [
    "c18_texts = get_documents_by_label(valid_texts, valid_labels, 'c18')\n",
    "c18_texts[:20]"
   ]
  },
  {
   "cell_type": "code",
   "execution_count": null,
   "metadata": {
    "colab": {},
    "colab_type": "code",
    "id": "ekBvfW703I-E"
   },
   "outputs": [],
   "source": [
    "def inferrence_sentence(model, sent):\n",
    "    x = tokenizer.texts_to_sequences([sent])\n",
    "    x_pad = pad_sequences(x, maxlen=MAXLEN, padding='pre')\n",
    "    y_pred = np.argmax(model.predict(x_pad),axis=1)\n",
    "    print(label_list[y_pred[0]])"
   ]
  },
  {
   "cell_type": "markdown",
   "metadata": {
    "colab_type": "text",
    "id": "CSduU8-R-rAK"
   },
   "source": [
    "# V. References\n",
    "\n",
    "1. [LSTM Baseline model](https://colab.research.google.com/drive/1ywAxRuIPQrEqOkEwtzfGWhJjAR95AdfI?usp=sharing)\n",
    "\n",
    "2. [Transformer by Tensorflow keras](https://keras.io/examples/nlp/text_classification_with_transformer/)"
   ]
  }
 ],
 "metadata": {
  "accelerator": "GPU",
  "colab": {
   "collapsed_sections": [],
   "name": "[FinalAssignment]_Text_Classifier.ipynb",
   "provenance": []
  },
  "kernelspec": {
   "display_name": "Python 3",
   "language": "python",
   "name": "python3"
  },
  "language_info": {
   "codemirror_mode": {
    "name": "ipython",
    "version": 3
   },
   "file_extension": ".py",
   "mimetype": "text/x-python",
   "name": "python",
   "nbconvert_exporter": "python",
   "pygments_lexer": "ipython3",
   "version": "3.7.1"
  }
 },
 "nbformat": 4,
 "nbformat_minor": 1
}
